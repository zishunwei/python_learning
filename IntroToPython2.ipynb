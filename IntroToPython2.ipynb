{
 "cells": [
  {
   "cell_type": "markdown",
   "metadata": {},
   "source": [
    "\n",
    "Mining Social and Geographic Datasets\n",
    "-----------------------------------\n",
    "\n",
    "Lab Class: A First Look at Python\n",
    "-------------------------------\n",
    "\n",
    "**Exercise 1 (basic)**\n",
    "\n",
    "a) Define a list containing the following elements: 1, 2, 3, 4, 5, 6, 7, 8, 9. <br />\n",
    "b) Write a program that prints the first element of the list. <br />\n",
    "c) Write a program that prints the last element of the list. <br />\n",
    "d) Write a program that prints the sum of the elements of the list. <br />\n",
    "e) Write a program that calculates the average of the elements of the list. <br />\n",
    "f) Write a program that calculates the median of the elements of the list. <br />\n",
    "\n",
    "**Exercise 2 (loops and controls)** \n",
    "\n",
    "a) Define two lists of length 10, containing elements from 1 to 10 and 11 to 20. <br />\n",
    "b) Write a program that sums all the odd elements in the list. <br /> \n",
    "c) Write a program that exponentiates all the even elements in the list <br /> \n",
    "d) Write a program that prints the list in which each element is the sum of the corresponding elements. <br />\n",
    "e) Write a program that sorts the list in ascending order. <br />\n",
    "f) Write a program that sorts the list in descending order. <br />\n",
    "\n",
    "\n"
   ]
  },
  {
   "cell_type": "code",
   "execution_count": null,
   "metadata": {
    "collapsed": true
   },
   "outputs": [],
   "source": []
  }
 ],
 "metadata": {
  "kernelspec": {
   "display_name": "Python 3",
   "language": "python",
   "name": "python3"
  },
  "language_info": {
   "codemirror_mode": {
    "name": "ipython",
    "version": 3
   },
   "file_extension": ".py",
   "mimetype": "text/x-python",
   "name": "python",
   "nbconvert_exporter": "python",
   "pygments_lexer": "ipython3",
   "version": "3.7.3"
  }
 },
 "nbformat": 4,
 "nbformat_minor": 1
}
