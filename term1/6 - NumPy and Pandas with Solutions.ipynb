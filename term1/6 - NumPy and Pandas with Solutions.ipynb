{
 "cells": [
  {
   "cell_type": "markdown",
   "metadata": {},
   "source": [
    "# Practical: NumPy and Pandas"
   ]
  },
  {
   "cell_type": "markdown",
   "metadata": {},
   "source": [
    "**14th November 2019 – 11am to 1pm**\n",
    "\n",
    "**Christopher Ingold Building G20** "
   ]
  },
  {
   "cell_type": "markdown",
   "metadata": {},
   "source": [
    "## Intro to NumPy\n",
    "\n",
    "NumPy is a Python library for scientific computing. It provides high-performance multidimensional data structure called arrays. NumPy is usually imported like this:"
   ]
  },
  {
   "cell_type": "code",
   "execution_count": 1,
   "metadata": {},
   "outputs": [],
   "source": [
    "import numpy as np"
   ]
  },
  {
   "cell_type": "markdown",
   "metadata": {},
   "source": [
    "### Arrays\n",
    "\n",
    "A NumPy array is a tensor of values all of the same type. The number of dimensions is the rank of the array, the shape of an array is a tuple of integers giving the size of the array along each dimension.\n",
    "\n",
    "We can create a NumPy array (aka a vector) from Python lists:"
   ]
  },
  {
   "cell_type": "code",
   "execution_count": 8,
   "metadata": {},
   "outputs": [
    {
     "data": {
      "text/plain": [
       "array([1, 2, 3, 4])"
      ]
     },
     "execution_count": 8,
     "metadata": {},
     "output_type": "execute_result"
    }
   ],
   "source": [
    "a = np.array([1, 2, 3, 4])\n",
    "a"
   ]
  },
  {
   "cell_type": "markdown",
   "metadata": {},
   "source": [
    "The previous code cell has created a NumPy array of rank 1. To check that this is a NumPy array we can use the function `type`:"
   ]
  },
  {
   "cell_type": "code",
   "execution_count": 9,
   "metadata": {},
   "outputs": [
    {
     "data": {
      "text/plain": [
       "numpy.ndarray"
      ]
     },
     "execution_count": 9,
     "metadata": {},
     "output_type": "execute_result"
    }
   ],
   "source": [
    "type(a)"
   ]
  },
  {
   "cell_type": "markdown",
   "metadata": {},
   "source": [
    "If we are given an array and we need to know its shape, we can use its attribute `shape`:"
   ]
  },
  {
   "cell_type": "code",
   "execution_count": 10,
   "metadata": {},
   "outputs": [
    {
     "data": {
      "text/plain": [
       "(4,)"
      ]
     },
     "execution_count": 10,
     "metadata": {},
     "output_type": "execute_result"
    }
   ],
   "source": [
    "a.shape"
   ]
  },
  {
   "cell_type": "markdown",
   "metadata": {},
   "source": [
    "What shape returns is a tuple containing the length of each dimension. In this case, we have only one dimension of size 4.\n",
    "\n",
    "To access the values of a one-dimensional array we can do like we do when using Python lists:"
   ]
  },
  {
   "cell_type": "code",
   "execution_count": 11,
   "metadata": {},
   "outputs": [
    {
     "data": {
      "text/plain": [
       "1"
      ]
     },
     "execution_count": 11,
     "metadata": {},
     "output_type": "execute_result"
    }
   ],
   "source": [
    "a[0]"
   ]
  },
  {
   "cell_type": "markdown",
   "metadata": {},
   "source": [
    "Let's now create a 2-dimensional array (aka a matrix in math):"
   ]
  },
  {
   "cell_type": "code",
   "execution_count": 12,
   "metadata": {},
   "outputs": [
    {
     "data": {
      "text/plain": [
       "array([[1, 2, 3, 4],\n",
       "       [5, 6, 7, 8]])"
      ]
     },
     "execution_count": 12,
     "metadata": {},
     "output_type": "execute_result"
    }
   ],
   "source": [
    "a2 = np.array([[1, 2, 3, 4], [5, 6, 7, 8]])\n",
    "a2"
   ]
  },
  {
   "cell_type": "markdown",
   "metadata": {},
   "source": [
    "Now we use shape to get the length of the dimensions:"
   ]
  },
  {
   "cell_type": "code",
   "execution_count": 13,
   "metadata": {},
   "outputs": [
    {
     "data": {
      "text/plain": [
       "(2, 4)"
      ]
     },
     "execution_count": 13,
     "metadata": {},
     "output_type": "execute_result"
    }
   ],
   "source": [
    "a2.shape"
   ]
  },
  {
   "cell_type": "markdown",
   "metadata": {},
   "source": [
    "This is a matrix (with rank 2) with 2 rows and 4 columns.\n",
    "\n",
    "To access the individual values of this matrix we can do like this:"
   ]
  },
  {
   "cell_type": "code",
   "execution_count": 14,
   "metadata": {},
   "outputs": [
    {
     "data": {
      "text/plain": [
       "1"
      ]
     },
     "execution_count": 14,
     "metadata": {},
     "output_type": "execute_result"
    }
   ],
   "source": [
    "a2[0, 0]"
   ]
  },
  {
   "cell_type": "markdown",
   "metadata": {},
   "source": [
    "This will access the value positioned at the first row and first column. Try to access other locations until you get and error.\n",
    "\n",
    "NumPy also provides some handy functions to create commonly used tensors when developing scientific applications. To use these functions we just need to give a tuple as a parameter defining the size of each dimensions. \n",
    "\n",
    "For example, use zeros to create a tensor filled with zeros:"
   ]
  },
  {
   "cell_type": "code",
   "execution_count": 15,
   "metadata": {},
   "outputs": [
    {
     "data": {
      "text/plain": [
       "array([[0., 0., 0., 0.],\n",
       "       [0., 0., 0., 0.],\n",
       "       [0., 0., 0., 0.],\n",
       "       [0., 0., 0., 0.]])"
      ]
     },
     "execution_count": 15,
     "metadata": {},
     "output_type": "execute_result"
    }
   ],
   "source": [
    "np.zeros((4, 4))"
   ]
  },
  {
   "cell_type": "markdown",
   "metadata": {},
   "source": [
    "Use ones to create a tensor filled with ones:"
   ]
  },
  {
   "cell_type": "code",
   "execution_count": 16,
   "metadata": {},
   "outputs": [
    {
     "data": {
      "text/plain": [
       "array([[1., 1., 1., 1.],\n",
       "       [1., 1., 1., 1.],\n",
       "       [1., 1., 1., 1.],\n",
       "       [1., 1., 1., 1.]])"
      ]
     },
     "execution_count": 16,
     "metadata": {},
     "output_type": "execute_result"
    }
   ],
   "source": [
    "np.ones((4, 4))"
   ]
  },
  {
   "cell_type": "markdown",
   "metadata": {},
   "source": [
    "Use random.random to create a tensor filled with random values $\\in [0,1]$:"
   ]
  },
  {
   "cell_type": "code",
   "execution_count": 17,
   "metadata": {},
   "outputs": [
    {
     "data": {
      "text/plain": [
       "array([[0.04651746, 0.43821428, 0.82770678, 0.14876231],\n",
       "       [0.45203205, 0.20096141, 0.76213478, 0.49995163],\n",
       "       [0.09892925, 0.00630044, 0.32641344, 0.87079664],\n",
       "       [0.49676333, 0.74235836, 0.54794594, 0.66073299]])"
      ]
     },
     "execution_count": 17,
     "metadata": {},
     "output_type": "execute_result"
    }
   ],
   "source": [
    "np.random.random((4, 4))"
   ]
  },
  {
   "cell_type": "markdown",
   "metadata": {},
   "source": [
    "To create a matrix containing a given value, we can either use the method full and provide the given value, or create a tensor of ones and multiplying it by the given value, or create a tensor of zeros and sum the given value:"
   ]
  },
  {
   "cell_type": "code",
   "execution_count": 18,
   "metadata": {},
   "outputs": [
    {
     "data": {
      "text/plain": [
       "array([[3, 3, 3, 3],\n",
       "       [3, 3, 3, 3],\n",
       "       [3, 3, 3, 3],\n",
       "       [3, 3, 3, 3]])"
      ]
     },
     "execution_count": 18,
     "metadata": {},
     "output_type": "execute_result"
    }
   ],
   "source": [
    "np.full((4, 4), 3)"
   ]
  },
  {
   "cell_type": "code",
   "execution_count": 19,
   "metadata": {},
   "outputs": [
    {
     "data": {
      "text/plain": [
       "array([[3., 3., 3., 3.],\n",
       "       [3., 3., 3., 3.],\n",
       "       [3., 3., 3., 3.],\n",
       "       [3., 3., 3., 3.]])"
      ]
     },
     "execution_count": 19,
     "metadata": {},
     "output_type": "execute_result"
    }
   ],
   "source": [
    "np.ones((4, 4)) * 3"
   ]
  },
  {
   "cell_type": "code",
   "execution_count": 20,
   "metadata": {},
   "outputs": [
    {
     "data": {
      "text/plain": [
       "array([[3., 3., 3., 3.],\n",
       "       [3., 3., 3., 3.],\n",
       "       [3., 3., 3., 3.],\n",
       "       [3., 3., 3., 3.]])"
      ]
     },
     "execution_count": 20,
     "metadata": {},
     "output_type": "execute_result"
    }
   ],
   "source": [
    "np.zeros((4, 4)) + 3"
   ]
  },
  {
   "cell_type": "markdown",
   "metadata": {},
   "source": [
    "The two code cells above also demonstrate that in NumPy we can easily do arithmetic operations between tensors and scalars.\n",
    "\n",
    "To create a matrix with the diagonal full with ones (aka the identity matrix), we can use the method eye like this:"
   ]
  },
  {
   "cell_type": "code",
   "execution_count": 21,
   "metadata": {},
   "outputs": [
    {
     "data": {
      "text/plain": [
       "array([[1., 0., 0., 0.],\n",
       "       [0., 1., 0., 0.],\n",
       "       [0., 0., 1., 0.],\n",
       "       [0., 0., 0., 1.]])"
      ]
     },
     "execution_count": 21,
     "metadata": {},
     "output_type": "execute_result"
    }
   ],
   "source": [
    "np.eye(4)"
   ]
  },
  {
   "cell_type": "markdown",
   "metadata": {},
   "source": [
    "### Array Selection\n",
    "\n",
    "We can select a part of a tensor using the slicing operator of Python. However, in NumPy the range operator can be used with multi-dimensional tensors:"
   ]
  },
  {
   "cell_type": "code",
   "execution_count": 22,
   "metadata": {},
   "outputs": [
    {
     "data": {
      "text/plain": [
       "array([[ 1,  2,  3,  4],\n",
       "       [ 5,  6,  7,  8],\n",
       "       [ 9, 10, 11, 12]])"
      ]
     },
     "execution_count": 22,
     "metadata": {},
     "output_type": "execute_result"
    }
   ],
   "source": [
    "a = np.array([[1, 2, 3, 4], [5, 6, 7, 8], [9, 10, 11, 12]])\n",
    "a"
   ]
  },
  {
   "cell_type": "markdown",
   "metadata": {},
   "source": [
    "For example, to select only the 2x2 matrix on the top right, we can do:"
   ]
  },
  {
   "cell_type": "code",
   "execution_count": 23,
   "metadata": {},
   "outputs": [
    {
     "data": {
      "text/plain": [
       "array([[3, 4],\n",
       "       [7, 8]])"
      ]
     },
     "execution_count": 23,
     "metadata": {},
     "output_type": "execute_result"
    }
   ],
   "source": [
    "a[:2, 2:]"
   ]
  },
  {
   "cell_type": "markdown",
   "metadata": {},
   "source": [
    "If we want to select the last row:"
   ]
  },
  {
   "cell_type": "code",
   "execution_count": 24,
   "metadata": {},
   "outputs": [
    {
     "data": {
      "text/plain": [
       "array([[ 9, 10, 11, 12]])"
      ]
     },
     "execution_count": 24,
     "metadata": {},
     "output_type": "execute_result"
    }
   ],
   "source": [
    "a[2:]"
   ]
  },
  {
   "cell_type": "markdown",
   "metadata": {},
   "source": [
    "If we want to select the last two columns:"
   ]
  },
  {
   "cell_type": "code",
   "execution_count": 25,
   "metadata": {},
   "outputs": [
    {
     "data": {
      "text/plain": [
       "array([[ 3,  4],\n",
       "       [ 7,  8],\n",
       "       [11, 12]])"
      ]
     },
     "execution_count": 25,
     "metadata": {},
     "output_type": "execute_result"
    }
   ],
   "source": [
    "a[:,2:]"
   ]
  },
  {
   "cell_type": "markdown",
   "metadata": {},
   "source": [
    "We can also use a list of integers to extract only the coordinates we want, for example if we want to extract only the values of the 4 corners of the matrix `a`:"
   ]
  },
  {
   "cell_type": "code",
   "execution_count": 26,
   "metadata": {},
   "outputs": [
    {
     "data": {
      "text/plain": [
       "array([ 1,  4,  9, 12])"
      ]
     },
     "execution_count": 26,
     "metadata": {},
     "output_type": "execute_result"
    }
   ],
   "source": [
    "a[[0, 0, 2, 2],[0, 3, 0, 3]]"
   ]
  },
  {
   "cell_type": "markdown",
   "metadata": {},
   "source": [
    "### Arithmetic Operators with Arrays\n",
    "\n",
    "To sum a scalar to a matrix:"
   ]
  },
  {
   "cell_type": "code",
   "execution_count": 21,
   "metadata": {},
   "outputs": [
    {
     "data": {
      "text/plain": [
       "array([[4., 3., 3., 3.],\n",
       "       [3., 4., 3., 3.],\n",
       "       [3., 3., 4., 3.],\n",
       "       [3., 3., 3., 4.]])"
      ]
     },
     "execution_count": 21,
     "metadata": {},
     "output_type": "execute_result"
    }
   ],
   "source": [
    "a = np.eye(4) \n",
    "a + 3"
   ]
  },
  {
   "cell_type": "markdown",
   "metadata": {},
   "source": [
    "To subtract a scalar:"
   ]
  },
  {
   "cell_type": "code",
   "execution_count": 22,
   "metadata": {},
   "outputs": [
    {
     "data": {
      "text/plain": [
       "array([[-4., -5., -5., -5.],\n",
       "       [-5., -4., -5., -5.],\n",
       "       [-5., -5., -4., -5.],\n",
       "       [-5., -5., -5., -4.]])"
      ]
     },
     "execution_count": 22,
     "metadata": {},
     "output_type": "execute_result"
    }
   ],
   "source": [
    "a - 5"
   ]
  },
  {
   "cell_type": "markdown",
   "metadata": {},
   "source": [
    "To multiply a scalar to a matrix:"
   ]
  },
  {
   "cell_type": "code",
   "execution_count": 23,
   "metadata": {},
   "outputs": [
    {
     "data": {
      "text/plain": [
       "array([[3., 0., 0., 0.],\n",
       "       [0., 3., 0., 0.],\n",
       "       [0., 0., 3., 0.],\n",
       "       [0., 0., 0., 3.]])"
      ]
     },
     "execution_count": 23,
     "metadata": {},
     "output_type": "execute_result"
    }
   ],
   "source": [
    "a * 3"
   ]
  },
  {
   "cell_type": "markdown",
   "metadata": {},
   "source": [
    "To divide by a scalar:"
   ]
  },
  {
   "cell_type": "code",
   "execution_count": 24,
   "metadata": {},
   "outputs": [
    {
     "data": {
      "text/plain": [
       "array([[0.33333333, 0.        , 0.        , 0.        ],\n",
       "       [0.        , 0.33333333, 0.        , 0.        ],\n",
       "       [0.        , 0.        , 0.33333333, 0.        ],\n",
       "       [0.        , 0.        , 0.        , 0.33333333]])"
      ]
     },
     "execution_count": 24,
     "metadata": {},
     "output_type": "execute_result"
    }
   ],
   "source": [
    "a / 3"
   ]
  },
  {
   "cell_type": "markdown",
   "metadata": {},
   "source": [
    "To exponentiate by a value:"
   ]
  },
  {
   "cell_type": "code",
   "execution_count": 25,
   "metadata": {},
   "outputs": [
    {
     "data": {
      "text/plain": [
       "array([[8., 1., 1., 1.],\n",
       "       [1., 8., 1., 1.],\n",
       "       [1., 1., 8., 1.],\n",
       "       [1., 1., 1., 8.]])"
      ]
     },
     "execution_count": 25,
     "metadata": {},
     "output_type": "execute_result"
    }
   ],
   "source": [
    "(a + 1) ** 3"
   ]
  },
  {
   "cell_type": "markdown",
   "metadata": {},
   "source": [
    "We can also do matrix operations like the dot product like this:"
   ]
  },
  {
   "cell_type": "code",
   "execution_count": 26,
   "metadata": {},
   "outputs": [
    {
     "data": {
      "text/plain": [
       "array([13, 20])"
      ]
     },
     "execution_count": 26,
     "metadata": {},
     "output_type": "execute_result"
    }
   ],
   "source": [
    "a1 = np.array([4, 3])\n",
    "a2 = np.array([[1, 2],[3, 4]])\n",
    "\n",
    "a1 @ a2"
   ]
  },
  {
   "cell_type": "markdown",
   "metadata": {},
   "source": [
    "We can transpose a matrix like this:"
   ]
  },
  {
   "cell_type": "code",
   "execution_count": 27,
   "metadata": {},
   "outputs": [
    {
     "data": {
      "text/plain": [
       "array([[1, 3],\n",
       "       [2, 4]])"
      ]
     },
     "execution_count": 27,
     "metadata": {},
     "output_type": "execute_result"
    }
   ],
   "source": [
    "a2.T"
   ]
  },
  {
   "cell_type": "markdown",
   "metadata": {},
   "source": [
    "### Comparison Operators with Arrays\n",
    "\n",
    "We can use the Python comparison operators with arrays. However, this will not return a Boolean value but an array of Boolean values:"
   ]
  },
  {
   "cell_type": "code",
   "execution_count": 28,
   "metadata": {},
   "outputs": [
    {
     "data": {
      "text/plain": [
       "array([False, False,  True, False])"
      ]
     },
     "execution_count": 28,
     "metadata": {},
     "output_type": "execute_result"
    }
   ],
   "source": [
    "a = np.array([1, 2, 3, 4])\n",
    "a == 3"
   ]
  },
  {
   "cell_type": "markdown",
   "metadata": {},
   "source": [
    "Or, greater or equal:"
   ]
  },
  {
   "cell_type": "code",
   "execution_count": 29,
   "metadata": {},
   "outputs": [
    {
     "data": {
      "text/plain": [
       "array([False, False,  True,  True])"
      ]
     },
     "execution_count": 29,
     "metadata": {},
     "output_type": "execute_result"
    }
   ],
   "source": [
    "a >= 3"
   ]
  },
  {
   "cell_type": "markdown",
   "metadata": {},
   "source": [
    "### Extended Datatypes\n",
    "\n",
    "NumPy is implemented in C. This allows us to use C datatypes like this:"
   ]
  },
  {
   "cell_type": "code",
   "execution_count": 30,
   "metadata": {},
   "outputs": [
    {
     "data": {
      "text/plain": [
       "array([1, 2, 3, 4], dtype=int32)"
      ]
     },
     "execution_count": 30,
     "metadata": {},
     "output_type": "execute_result"
    }
   ],
   "source": [
    "a = np.array([1, 2, 3, 4], dtype=np.int32)\n",
    "a"
   ]
  },
  {
   "cell_type": "markdown",
   "metadata": {},
   "source": [
    "We can find details about C datatypes [here](https://docs.scipy.org/doc/numpy/user/basics.types.html)."
   ]
  },
  {
   "cell_type": "markdown",
   "metadata": {},
   "source": [
    "# Exercise 27\n",
    "\n",
    "Compute the following sequence when n is equal to 5:\n",
    "\n",
    "$\n",
    "a_0 = \n",
    "\\begin{bmatrix}\n",
    "1&0\\\\\n",
    "0&1\\\\\n",
    "\\end{bmatrix}\n",
    "$\n",
    "\n",
    "$\n",
    "a_n = \n",
    "\\begin{bmatrix}\n",
    "1\\\\\n",
    "2\\\\\n",
    "\\end{bmatrix} \\cdot \n",
    "\\begin{bmatrix}\n",
    "2&1\\\\\n",
    "\\end{bmatrix} -\n",
    "a_{n-1}$\n",
    "\n",
    "\n",
    "The result should be:\n",
    "\n",
    "$a_5 = \\begin{bmatrix}\n",
    "1&1\\\\\n",
    "4&1\\\\\n",
    "\\end{bmatrix}$"
   ]
  },
  {
   "cell_type": "code",
   "execution_count": 31,
   "metadata": {},
   "outputs": [
    {
     "data": {
      "text/plain": [
       "array([[1., 1.],\n",
       "       [4., 1.]])"
      ]
     },
     "execution_count": 31,
     "metadata": {},
     "output_type": "execute_result"
    }
   ],
   "source": [
    "n = 5\n",
    "\n",
    "a_n = np.eye(2)\n",
    "for _ in range(n):\n",
    "    a_n = np.array([[1], [2]]) @ np.array([[2, 1]]) - a_n\n",
    "\n",
    "a_n"
   ]
  },
  {
   "cell_type": "markdown",
   "metadata": {},
   "source": [
    "## Intro to Pandas\n",
    "\n",
    "Pandas is an open source providing high-performance easy-to-use data structures and data analysis tools for the Python programming language.\n",
    "\n",
    "Pandas is usually imported using the following import statement:"
   ]
  },
  {
   "cell_type": "code",
   "execution_count": 28,
   "metadata": {},
   "outputs": [],
   "source": [
    "import pandas as pd"
   ]
  },
  {
   "cell_type": "markdown",
   "metadata": {},
   "source": [
    "Pandas defines two data structures called DataFrame and Series. \n",
    "\n",
    "### Read a CSV\n",
    "\n",
    "To read a CSV file we can use the read_csv method. This will create a DataFrame. To read a CSV you can pass to this method either a file path to a CSV file stored locally, or an URL to a CSV file which pandas will download and parse automatically. \n",
    "\n",
    "For this tutorial we will work with a famous dataset called IRIS. This dataset describes the features of 3 different species of flowers. Each row is a flower and each column is a different measurement made on the flowers with the exception of the last column which represents the species of the flower:"
   ]
  },
  {
   "cell_type": "code",
   "execution_count": 29,
   "metadata": {},
   "outputs": [
    {
     "data": {
      "text/html": [
       "<div>\n",
       "<style scoped>\n",
       "    .dataframe tbody tr th:only-of-type {\n",
       "        vertical-align: middle;\n",
       "    }\n",
       "\n",
       "    .dataframe tbody tr th {\n",
       "        vertical-align: top;\n",
       "    }\n",
       "\n",
       "    .dataframe thead th {\n",
       "        text-align: right;\n",
       "    }\n",
       "</style>\n",
       "<table border=\"1\" class=\"dataframe\">\n",
       "  <thead>\n",
       "    <tr style=\"text-align: right;\">\n",
       "      <th></th>\n",
       "      <th>sepal_length</th>\n",
       "      <th>sepal_width</th>\n",
       "      <th>petal_length</th>\n",
       "      <th>petal_width</th>\n",
       "      <th>species</th>\n",
       "    </tr>\n",
       "  </thead>\n",
       "  <tbody>\n",
       "    <tr>\n",
       "      <td>0</td>\n",
       "      <td>5.1</td>\n",
       "      <td>3.5</td>\n",
       "      <td>1.4</td>\n",
       "      <td>0.2</td>\n",
       "      <td>setosa</td>\n",
       "    </tr>\n",
       "    <tr>\n",
       "      <td>1</td>\n",
       "      <td>4.9</td>\n",
       "      <td>3.0</td>\n",
       "      <td>1.4</td>\n",
       "      <td>0.2</td>\n",
       "      <td>setosa</td>\n",
       "    </tr>\n",
       "    <tr>\n",
       "      <td>2</td>\n",
       "      <td>4.7</td>\n",
       "      <td>3.2</td>\n",
       "      <td>1.3</td>\n",
       "      <td>0.2</td>\n",
       "      <td>setosa</td>\n",
       "    </tr>\n",
       "    <tr>\n",
       "      <td>3</td>\n",
       "      <td>4.6</td>\n",
       "      <td>3.1</td>\n",
       "      <td>1.5</td>\n",
       "      <td>0.2</td>\n",
       "      <td>setosa</td>\n",
       "    </tr>\n",
       "    <tr>\n",
       "      <td>4</td>\n",
       "      <td>5.0</td>\n",
       "      <td>3.6</td>\n",
       "      <td>1.4</td>\n",
       "      <td>0.2</td>\n",
       "      <td>setosa</td>\n",
       "    </tr>\n",
       "    <tr>\n",
       "      <td>...</td>\n",
       "      <td>...</td>\n",
       "      <td>...</td>\n",
       "      <td>...</td>\n",
       "      <td>...</td>\n",
       "      <td>...</td>\n",
       "    </tr>\n",
       "    <tr>\n",
       "      <td>145</td>\n",
       "      <td>6.7</td>\n",
       "      <td>3.0</td>\n",
       "      <td>5.2</td>\n",
       "      <td>2.3</td>\n",
       "      <td>virginica</td>\n",
       "    </tr>\n",
       "    <tr>\n",
       "      <td>146</td>\n",
       "      <td>6.3</td>\n",
       "      <td>2.5</td>\n",
       "      <td>5.0</td>\n",
       "      <td>1.9</td>\n",
       "      <td>virginica</td>\n",
       "    </tr>\n",
       "    <tr>\n",
       "      <td>147</td>\n",
       "      <td>6.5</td>\n",
       "      <td>3.0</td>\n",
       "      <td>5.2</td>\n",
       "      <td>2.0</td>\n",
       "      <td>virginica</td>\n",
       "    </tr>\n",
       "    <tr>\n",
       "      <td>148</td>\n",
       "      <td>6.2</td>\n",
       "      <td>3.4</td>\n",
       "      <td>5.4</td>\n",
       "      <td>2.3</td>\n",
       "      <td>virginica</td>\n",
       "    </tr>\n",
       "    <tr>\n",
       "      <td>149</td>\n",
       "      <td>5.9</td>\n",
       "      <td>3.0</td>\n",
       "      <td>5.1</td>\n",
       "      <td>1.8</td>\n",
       "      <td>virginica</td>\n",
       "    </tr>\n",
       "  </tbody>\n",
       "</table>\n",
       "<p>150 rows × 5 columns</p>\n",
       "</div>"
      ],
      "text/plain": [
       "     sepal_length  sepal_width  petal_length  petal_width    species\n",
       "0             5.1          3.5           1.4          0.2     setosa\n",
       "1             4.9          3.0           1.4          0.2     setosa\n",
       "2             4.7          3.2           1.3          0.2     setosa\n",
       "3             4.6          3.1           1.5          0.2     setosa\n",
       "4             5.0          3.6           1.4          0.2     setosa\n",
       "..            ...          ...           ...          ...        ...\n",
       "145           6.7          3.0           5.2          2.3  virginica\n",
       "146           6.3          2.5           5.0          1.9  virginica\n",
       "147           6.5          3.0           5.2          2.0  virginica\n",
       "148           6.2          3.4           5.4          2.3  virginica\n",
       "149           5.9          3.0           5.1          1.8  virginica\n",
       "\n",
       "[150 rows x 5 columns]"
      ]
     },
     "execution_count": 29,
     "metadata": {},
     "output_type": "execute_result"
    }
   ],
   "source": [
    "iris = pd.read_csv('https://raw.githubusercontent.com/mwaskom/seaborn-data/master/iris.csv')\n",
    "iris"
   ]
  },
  {
   "cell_type": "markdown",
   "metadata": {},
   "source": [
    "We can check the first 5 rows of the DataFrame by using head:"
   ]
  },
  {
   "cell_type": "code",
   "execution_count": 30,
   "metadata": {},
   "outputs": [
    {
     "data": {
      "text/html": [
       "<div>\n",
       "<style scoped>\n",
       "    .dataframe tbody tr th:only-of-type {\n",
       "        vertical-align: middle;\n",
       "    }\n",
       "\n",
       "    .dataframe tbody tr th {\n",
       "        vertical-align: top;\n",
       "    }\n",
       "\n",
       "    .dataframe thead th {\n",
       "        text-align: right;\n",
       "    }\n",
       "</style>\n",
       "<table border=\"1\" class=\"dataframe\">\n",
       "  <thead>\n",
       "    <tr style=\"text-align: right;\">\n",
       "      <th></th>\n",
       "      <th>sepal_length</th>\n",
       "      <th>sepal_width</th>\n",
       "      <th>petal_length</th>\n",
       "      <th>petal_width</th>\n",
       "      <th>species</th>\n",
       "    </tr>\n",
       "  </thead>\n",
       "  <tbody>\n",
       "    <tr>\n",
       "      <td>0</td>\n",
       "      <td>5.1</td>\n",
       "      <td>3.5</td>\n",
       "      <td>1.4</td>\n",
       "      <td>0.2</td>\n",
       "      <td>setosa</td>\n",
       "    </tr>\n",
       "    <tr>\n",
       "      <td>1</td>\n",
       "      <td>4.9</td>\n",
       "      <td>3.0</td>\n",
       "      <td>1.4</td>\n",
       "      <td>0.2</td>\n",
       "      <td>setosa</td>\n",
       "    </tr>\n",
       "    <tr>\n",
       "      <td>2</td>\n",
       "      <td>4.7</td>\n",
       "      <td>3.2</td>\n",
       "      <td>1.3</td>\n",
       "      <td>0.2</td>\n",
       "      <td>setosa</td>\n",
       "    </tr>\n",
       "    <tr>\n",
       "      <td>3</td>\n",
       "      <td>4.6</td>\n",
       "      <td>3.1</td>\n",
       "      <td>1.5</td>\n",
       "      <td>0.2</td>\n",
       "      <td>setosa</td>\n",
       "    </tr>\n",
       "    <tr>\n",
       "      <td>4</td>\n",
       "      <td>5.0</td>\n",
       "      <td>3.6</td>\n",
       "      <td>1.4</td>\n",
       "      <td>0.2</td>\n",
       "      <td>setosa</td>\n",
       "    </tr>\n",
       "  </tbody>\n",
       "</table>\n",
       "</div>"
      ],
      "text/plain": [
       "   sepal_length  sepal_width  petal_length  petal_width species\n",
       "0           5.1          3.5           1.4          0.2  setosa\n",
       "1           4.9          3.0           1.4          0.2  setosa\n",
       "2           4.7          3.2           1.3          0.2  setosa\n",
       "3           4.6          3.1           1.5          0.2  setosa\n",
       "4           5.0          3.6           1.4          0.2  setosa"
      ]
     },
     "execution_count": 30,
     "metadata": {},
     "output_type": "execute_result"
    }
   ],
   "source": [
    "iris.head(5)"
   ]
  },
  {
   "cell_type": "markdown",
   "metadata": {},
   "source": [
    "Or tail:"
   ]
  },
  {
   "cell_type": "code",
   "execution_count": 35,
   "metadata": {},
   "outputs": [
    {
     "data": {
      "text/html": [
       "<div>\n",
       "<style scoped>\n",
       "    .dataframe tbody tr th:only-of-type {\n",
       "        vertical-align: middle;\n",
       "    }\n",
       "\n",
       "    .dataframe tbody tr th {\n",
       "        vertical-align: top;\n",
       "    }\n",
       "\n",
       "    .dataframe thead th {\n",
       "        text-align: right;\n",
       "    }\n",
       "</style>\n",
       "<table border=\"1\" class=\"dataframe\">\n",
       "  <thead>\n",
       "    <tr style=\"text-align: right;\">\n",
       "      <th></th>\n",
       "      <th>sepal_length</th>\n",
       "      <th>sepal_width</th>\n",
       "      <th>petal_length</th>\n",
       "      <th>petal_width</th>\n",
       "      <th>species</th>\n",
       "    </tr>\n",
       "  </thead>\n",
       "  <tbody>\n",
       "    <tr>\n",
       "      <th>145</th>\n",
       "      <td>6.7</td>\n",
       "      <td>3.0</td>\n",
       "      <td>5.2</td>\n",
       "      <td>2.3</td>\n",
       "      <td>virginica</td>\n",
       "    </tr>\n",
       "    <tr>\n",
       "      <th>146</th>\n",
       "      <td>6.3</td>\n",
       "      <td>2.5</td>\n",
       "      <td>5.0</td>\n",
       "      <td>1.9</td>\n",
       "      <td>virginica</td>\n",
       "    </tr>\n",
       "    <tr>\n",
       "      <th>147</th>\n",
       "      <td>6.5</td>\n",
       "      <td>3.0</td>\n",
       "      <td>5.2</td>\n",
       "      <td>2.0</td>\n",
       "      <td>virginica</td>\n",
       "    </tr>\n",
       "    <tr>\n",
       "      <th>148</th>\n",
       "      <td>6.2</td>\n",
       "      <td>3.4</td>\n",
       "      <td>5.4</td>\n",
       "      <td>2.3</td>\n",
       "      <td>virginica</td>\n",
       "    </tr>\n",
       "    <tr>\n",
       "      <th>149</th>\n",
       "      <td>5.9</td>\n",
       "      <td>3.0</td>\n",
       "      <td>5.1</td>\n",
       "      <td>1.8</td>\n",
       "      <td>virginica</td>\n",
       "    </tr>\n",
       "  </tbody>\n",
       "</table>\n",
       "</div>"
      ],
      "text/plain": [
       "     sepal_length  sepal_width  petal_length  petal_width    species\n",
       "145           6.7          3.0           5.2          2.3  virginica\n",
       "146           6.3          2.5           5.0          1.9  virginica\n",
       "147           6.5          3.0           5.2          2.0  virginica\n",
       "148           6.2          3.4           5.4          2.3  virginica\n",
       "149           5.9          3.0           5.1          1.8  virginica"
      ]
     },
     "execution_count": 35,
     "metadata": {},
     "output_type": "execute_result"
    }
   ],
   "source": [
    "iris.tail(5)"
   ]
  },
  {
   "cell_type": "markdown",
   "metadata": {},
   "source": [
    "Like NumPy, we can get the size of the dimensions of the DataFrame using shape:"
   ]
  },
  {
   "cell_type": "code",
   "execution_count": 33,
   "metadata": {},
   "outputs": [
    {
     "data": {
      "text/plain": [
       "(150, 5)"
      ]
     },
     "execution_count": 33,
     "metadata": {},
     "output_type": "execute_result"
    }
   ],
   "source": [
    "iris.shape"
   ]
  },
  {
   "cell_type": "markdown",
   "metadata": {},
   "source": [
    "We can analyze the content of the DataFrame using describe:"
   ]
  },
  {
   "cell_type": "code",
   "execution_count": 34,
   "metadata": {},
   "outputs": [
    {
     "data": {
      "text/html": [
       "<div>\n",
       "<style scoped>\n",
       "    .dataframe tbody tr th:only-of-type {\n",
       "        vertical-align: middle;\n",
       "    }\n",
       "\n",
       "    .dataframe tbody tr th {\n",
       "        vertical-align: top;\n",
       "    }\n",
       "\n",
       "    .dataframe thead th {\n",
       "        text-align: right;\n",
       "    }\n",
       "</style>\n",
       "<table border=\"1\" class=\"dataframe\">\n",
       "  <thead>\n",
       "    <tr style=\"text-align: right;\">\n",
       "      <th></th>\n",
       "      <th>sepal_length</th>\n",
       "      <th>sepal_width</th>\n",
       "      <th>petal_length</th>\n",
       "      <th>petal_width</th>\n",
       "    </tr>\n",
       "  </thead>\n",
       "  <tbody>\n",
       "    <tr>\n",
       "      <td>count</td>\n",
       "      <td>150.000000</td>\n",
       "      <td>150.000000</td>\n",
       "      <td>150.000000</td>\n",
       "      <td>150.000000</td>\n",
       "    </tr>\n",
       "    <tr>\n",
       "      <td>mean</td>\n",
       "      <td>5.843333</td>\n",
       "      <td>3.057333</td>\n",
       "      <td>3.758000</td>\n",
       "      <td>1.199333</td>\n",
       "    </tr>\n",
       "    <tr>\n",
       "      <td>std</td>\n",
       "      <td>0.828066</td>\n",
       "      <td>0.435866</td>\n",
       "      <td>1.765298</td>\n",
       "      <td>0.762238</td>\n",
       "    </tr>\n",
       "    <tr>\n",
       "      <td>min</td>\n",
       "      <td>4.300000</td>\n",
       "      <td>2.000000</td>\n",
       "      <td>1.000000</td>\n",
       "      <td>0.100000</td>\n",
       "    </tr>\n",
       "    <tr>\n",
       "      <td>25%</td>\n",
       "      <td>5.100000</td>\n",
       "      <td>2.800000</td>\n",
       "      <td>1.600000</td>\n",
       "      <td>0.300000</td>\n",
       "    </tr>\n",
       "    <tr>\n",
       "      <td>50%</td>\n",
       "      <td>5.800000</td>\n",
       "      <td>3.000000</td>\n",
       "      <td>4.350000</td>\n",
       "      <td>1.300000</td>\n",
       "    </tr>\n",
       "    <tr>\n",
       "      <td>75%</td>\n",
       "      <td>6.400000</td>\n",
       "      <td>3.300000</td>\n",
       "      <td>5.100000</td>\n",
       "      <td>1.800000</td>\n",
       "    </tr>\n",
       "    <tr>\n",
       "      <td>max</td>\n",
       "      <td>7.900000</td>\n",
       "      <td>4.400000</td>\n",
       "      <td>6.900000</td>\n",
       "      <td>2.500000</td>\n",
       "    </tr>\n",
       "  </tbody>\n",
       "</table>\n",
       "</div>"
      ],
      "text/plain": [
       "       sepal_length  sepal_width  petal_length  petal_width\n",
       "count    150.000000   150.000000    150.000000   150.000000\n",
       "mean       5.843333     3.057333      3.758000     1.199333\n",
       "std        0.828066     0.435866      1.765298     0.762238\n",
       "min        4.300000     2.000000      1.000000     0.100000\n",
       "25%        5.100000     2.800000      1.600000     0.300000\n",
       "50%        5.800000     3.000000      4.350000     1.300000\n",
       "75%        6.400000     3.300000      5.100000     1.800000\n",
       "max        7.900000     4.400000      6.900000     2.500000"
      ]
     },
     "execution_count": 34,
     "metadata": {},
     "output_type": "execute_result"
    }
   ],
   "source": [
    "iris.describe()"
   ]
  },
  {
   "cell_type": "markdown",
   "metadata": {},
   "source": [
    "To get the type of each column (Series) we can use dtypes:"
   ]
  },
  {
   "cell_type": "code",
   "execution_count": 38,
   "metadata": {},
   "outputs": [
    {
     "data": {
      "text/plain": [
       "sepal_length    float64\n",
       "sepal_width     float64\n",
       "petal_length    float64\n",
       "petal_width     float64\n",
       "species          object\n",
       "dtype: object"
      ]
     },
     "execution_count": 38,
     "metadata": {},
     "output_type": "execute_result"
    }
   ],
   "source": [
    "iris.dtypes"
   ]
  },
  {
   "cell_type": "markdown",
   "metadata": {},
   "source": [
    "### Select Columns (Series)\n",
    "\n",
    "To access a column we can either use the name of the column as a method or use the squared brackets."
   ]
  },
  {
   "cell_type": "code",
   "execution_count": 39,
   "metadata": {},
   "outputs": [
    {
     "data": {
      "text/plain": [
       "0      5.1\n",
       "1      4.9\n",
       "2      4.7\n",
       "3      4.6\n",
       "4      5.0\n",
       "      ... \n",
       "145    6.7\n",
       "146    6.3\n",
       "147    6.5\n",
       "148    6.2\n",
       "149    5.9\n",
       "Name: sepal_length, Length: 150, dtype: float64"
      ]
     },
     "execution_count": 39,
     "metadata": {},
     "output_type": "execute_result"
    }
   ],
   "source": [
    "iris.sepal_length"
   ]
  },
  {
   "cell_type": "code",
   "execution_count": 40,
   "metadata": {},
   "outputs": [
    {
     "data": {
      "text/plain": [
       "0      5.1\n",
       "1      4.9\n",
       "2      4.7\n",
       "3      4.6\n",
       "4      5.0\n",
       "      ... \n",
       "145    6.7\n",
       "146    6.3\n",
       "147    6.5\n",
       "148    6.2\n",
       "149    5.9\n",
       "Name: sepal_length, Length: 150, dtype: float64"
      ]
     },
     "execution_count": 40,
     "metadata": {},
     "output_type": "execute_result"
    }
   ],
   "source": [
    "iris[\"sepal_length\"]"
   ]
  },
  {
   "cell_type": "markdown",
   "metadata": {},
   "source": [
    "To get a DataFrame back we need to put the name of the column in a list:"
   ]
  },
  {
   "cell_type": "code",
   "execution_count": 41,
   "metadata": {},
   "outputs": [
    {
     "data": {
      "text/html": [
       "<div>\n",
       "<style scoped>\n",
       "    .dataframe tbody tr th:only-of-type {\n",
       "        vertical-align: middle;\n",
       "    }\n",
       "\n",
       "    .dataframe tbody tr th {\n",
       "        vertical-align: top;\n",
       "    }\n",
       "\n",
       "    .dataframe thead th {\n",
       "        text-align: right;\n",
       "    }\n",
       "</style>\n",
       "<table border=\"1\" class=\"dataframe\">\n",
       "  <thead>\n",
       "    <tr style=\"text-align: right;\">\n",
       "      <th></th>\n",
       "      <th>sepal_length</th>\n",
       "    </tr>\n",
       "  </thead>\n",
       "  <tbody>\n",
       "    <tr>\n",
       "      <th>0</th>\n",
       "      <td>5.1</td>\n",
       "    </tr>\n",
       "    <tr>\n",
       "      <th>1</th>\n",
       "      <td>4.9</td>\n",
       "    </tr>\n",
       "    <tr>\n",
       "      <th>2</th>\n",
       "      <td>4.7</td>\n",
       "    </tr>\n",
       "    <tr>\n",
       "      <th>3</th>\n",
       "      <td>4.6</td>\n",
       "    </tr>\n",
       "    <tr>\n",
       "      <th>4</th>\n",
       "      <td>5.0</td>\n",
       "    </tr>\n",
       "    <tr>\n",
       "      <th>...</th>\n",
       "      <td>...</td>\n",
       "    </tr>\n",
       "    <tr>\n",
       "      <th>145</th>\n",
       "      <td>6.7</td>\n",
       "    </tr>\n",
       "    <tr>\n",
       "      <th>146</th>\n",
       "      <td>6.3</td>\n",
       "    </tr>\n",
       "    <tr>\n",
       "      <th>147</th>\n",
       "      <td>6.5</td>\n",
       "    </tr>\n",
       "    <tr>\n",
       "      <th>148</th>\n",
       "      <td>6.2</td>\n",
       "    </tr>\n",
       "    <tr>\n",
       "      <th>149</th>\n",
       "      <td>5.9</td>\n",
       "    </tr>\n",
       "  </tbody>\n",
       "</table>\n",
       "<p>150 rows × 1 columns</p>\n",
       "</div>"
      ],
      "text/plain": [
       "     sepal_length\n",
       "0             5.1\n",
       "1             4.9\n",
       "2             4.7\n",
       "3             4.6\n",
       "4             5.0\n",
       "..            ...\n",
       "145           6.7\n",
       "146           6.3\n",
       "147           6.5\n",
       "148           6.2\n",
       "149           5.9\n",
       "\n",
       "[150 rows x 1 columns]"
      ]
     },
     "execution_count": 41,
     "metadata": {},
     "output_type": "execute_result"
    }
   ],
   "source": [
    "iris[[\"sepal_length\"]]"
   ]
  },
  {
   "cell_type": "markdown",
   "metadata": {},
   "source": [
    "We can also select two columns using a list:"
   ]
  },
  {
   "cell_type": "code",
   "execution_count": 42,
   "metadata": {},
   "outputs": [
    {
     "data": {
      "text/html": [
       "<div>\n",
       "<style scoped>\n",
       "    .dataframe tbody tr th:only-of-type {\n",
       "        vertical-align: middle;\n",
       "    }\n",
       "\n",
       "    .dataframe tbody tr th {\n",
       "        vertical-align: top;\n",
       "    }\n",
       "\n",
       "    .dataframe thead th {\n",
       "        text-align: right;\n",
       "    }\n",
       "</style>\n",
       "<table border=\"1\" class=\"dataframe\">\n",
       "  <thead>\n",
       "    <tr style=\"text-align: right;\">\n",
       "      <th></th>\n",
       "      <th>sepal_length</th>\n",
       "      <th>sepal_width</th>\n",
       "    </tr>\n",
       "  </thead>\n",
       "  <tbody>\n",
       "    <tr>\n",
       "      <th>0</th>\n",
       "      <td>5.1</td>\n",
       "      <td>3.5</td>\n",
       "    </tr>\n",
       "    <tr>\n",
       "      <th>1</th>\n",
       "      <td>4.9</td>\n",
       "      <td>3.0</td>\n",
       "    </tr>\n",
       "    <tr>\n",
       "      <th>2</th>\n",
       "      <td>4.7</td>\n",
       "      <td>3.2</td>\n",
       "    </tr>\n",
       "    <tr>\n",
       "      <th>3</th>\n",
       "      <td>4.6</td>\n",
       "      <td>3.1</td>\n",
       "    </tr>\n",
       "    <tr>\n",
       "      <th>4</th>\n",
       "      <td>5.0</td>\n",
       "      <td>3.6</td>\n",
       "    </tr>\n",
       "    <tr>\n",
       "      <th>...</th>\n",
       "      <td>...</td>\n",
       "      <td>...</td>\n",
       "    </tr>\n",
       "    <tr>\n",
       "      <th>145</th>\n",
       "      <td>6.7</td>\n",
       "      <td>3.0</td>\n",
       "    </tr>\n",
       "    <tr>\n",
       "      <th>146</th>\n",
       "      <td>6.3</td>\n",
       "      <td>2.5</td>\n",
       "    </tr>\n",
       "    <tr>\n",
       "      <th>147</th>\n",
       "      <td>6.5</td>\n",
       "      <td>3.0</td>\n",
       "    </tr>\n",
       "    <tr>\n",
       "      <th>148</th>\n",
       "      <td>6.2</td>\n",
       "      <td>3.4</td>\n",
       "    </tr>\n",
       "    <tr>\n",
       "      <th>149</th>\n",
       "      <td>5.9</td>\n",
       "      <td>3.0</td>\n",
       "    </tr>\n",
       "  </tbody>\n",
       "</table>\n",
       "<p>150 rows × 2 columns</p>\n",
       "</div>"
      ],
      "text/plain": [
       "     sepal_length  sepal_width\n",
       "0             5.1          3.5\n",
       "1             4.9          3.0\n",
       "2             4.7          3.2\n",
       "3             4.6          3.1\n",
       "4             5.0          3.6\n",
       "..            ...          ...\n",
       "145           6.7          3.0\n",
       "146           6.3          2.5\n",
       "147           6.5          3.0\n",
       "148           6.2          3.4\n",
       "149           5.9          3.0\n",
       "\n",
       "[150 rows x 2 columns]"
      ]
     },
     "execution_count": 42,
     "metadata": {},
     "output_type": "execute_result"
    }
   ],
   "source": [
    "iris[[\"sepal_length\", \"sepal_width\"]]"
   ]
  },
  {
   "cell_type": "markdown",
   "metadata": {},
   "source": [
    "To select the first row we need to use the iloc like this:"
   ]
  },
  {
   "cell_type": "code",
   "execution_count": 43,
   "metadata": {},
   "outputs": [
    {
     "data": {
      "text/plain": [
       "sepal_length       5.1\n",
       "sepal_width        3.5\n",
       "petal_length       1.4\n",
       "petal_width        0.2\n",
       "species         setosa\n",
       "Name: 0, dtype: object"
      ]
     },
     "execution_count": 43,
     "metadata": {},
     "output_type": "execute_result"
    }
   ],
   "source": [
    "iris.iloc[0]"
   ]
  },
  {
   "cell_type": "markdown",
   "metadata": {},
   "source": [
    "### Select Rows\n",
    "\n",
    "To select rows based on a condition we can use boolean operators. For example, to select all the flowers that have a sepal length greater or equal than 5: "
   ]
  },
  {
   "cell_type": "code",
   "execution_count": 44,
   "metadata": {},
   "outputs": [
    {
     "data": {
      "text/html": [
       "<div>\n",
       "<style scoped>\n",
       "    .dataframe tbody tr th:only-of-type {\n",
       "        vertical-align: middle;\n",
       "    }\n",
       "\n",
       "    .dataframe tbody tr th {\n",
       "        vertical-align: top;\n",
       "    }\n",
       "\n",
       "    .dataframe thead th {\n",
       "        text-align: right;\n",
       "    }\n",
       "</style>\n",
       "<table border=\"1\" class=\"dataframe\">\n",
       "  <thead>\n",
       "    <tr style=\"text-align: right;\">\n",
       "      <th></th>\n",
       "      <th>sepal_length</th>\n",
       "      <th>sepal_width</th>\n",
       "      <th>petal_length</th>\n",
       "      <th>petal_width</th>\n",
       "      <th>species</th>\n",
       "    </tr>\n",
       "  </thead>\n",
       "  <tbody>\n",
       "    <tr>\n",
       "      <th>0</th>\n",
       "      <td>5.1</td>\n",
       "      <td>3.5</td>\n",
       "      <td>1.4</td>\n",
       "      <td>0.2</td>\n",
       "      <td>setosa</td>\n",
       "    </tr>\n",
       "    <tr>\n",
       "      <th>4</th>\n",
       "      <td>5.0</td>\n",
       "      <td>3.6</td>\n",
       "      <td>1.4</td>\n",
       "      <td>0.2</td>\n",
       "      <td>setosa</td>\n",
       "    </tr>\n",
       "    <tr>\n",
       "      <th>5</th>\n",
       "      <td>5.4</td>\n",
       "      <td>3.9</td>\n",
       "      <td>1.7</td>\n",
       "      <td>0.4</td>\n",
       "      <td>setosa</td>\n",
       "    </tr>\n",
       "    <tr>\n",
       "      <th>7</th>\n",
       "      <td>5.0</td>\n",
       "      <td>3.4</td>\n",
       "      <td>1.5</td>\n",
       "      <td>0.2</td>\n",
       "      <td>setosa</td>\n",
       "    </tr>\n",
       "    <tr>\n",
       "      <th>10</th>\n",
       "      <td>5.4</td>\n",
       "      <td>3.7</td>\n",
       "      <td>1.5</td>\n",
       "      <td>0.2</td>\n",
       "      <td>setosa</td>\n",
       "    </tr>\n",
       "    <tr>\n",
       "      <th>...</th>\n",
       "      <td>...</td>\n",
       "      <td>...</td>\n",
       "      <td>...</td>\n",
       "      <td>...</td>\n",
       "      <td>...</td>\n",
       "    </tr>\n",
       "    <tr>\n",
       "      <th>145</th>\n",
       "      <td>6.7</td>\n",
       "      <td>3.0</td>\n",
       "      <td>5.2</td>\n",
       "      <td>2.3</td>\n",
       "      <td>virginica</td>\n",
       "    </tr>\n",
       "    <tr>\n",
       "      <th>146</th>\n",
       "      <td>6.3</td>\n",
       "      <td>2.5</td>\n",
       "      <td>5.0</td>\n",
       "      <td>1.9</td>\n",
       "      <td>virginica</td>\n",
       "    </tr>\n",
       "    <tr>\n",
       "      <th>147</th>\n",
       "      <td>6.5</td>\n",
       "      <td>3.0</td>\n",
       "      <td>5.2</td>\n",
       "      <td>2.0</td>\n",
       "      <td>virginica</td>\n",
       "    </tr>\n",
       "    <tr>\n",
       "      <th>148</th>\n",
       "      <td>6.2</td>\n",
       "      <td>3.4</td>\n",
       "      <td>5.4</td>\n",
       "      <td>2.3</td>\n",
       "      <td>virginica</td>\n",
       "    </tr>\n",
       "    <tr>\n",
       "      <th>149</th>\n",
       "      <td>5.9</td>\n",
       "      <td>3.0</td>\n",
       "      <td>5.1</td>\n",
       "      <td>1.8</td>\n",
       "      <td>virginica</td>\n",
       "    </tr>\n",
       "  </tbody>\n",
       "</table>\n",
       "<p>128 rows × 5 columns</p>\n",
       "</div>"
      ],
      "text/plain": [
       "     sepal_length  sepal_width  petal_length  petal_width    species\n",
       "0             5.1          3.5           1.4          0.2     setosa\n",
       "4             5.0          3.6           1.4          0.2     setosa\n",
       "5             5.4          3.9           1.7          0.4     setosa\n",
       "7             5.0          3.4           1.5          0.2     setosa\n",
       "10            5.4          3.7           1.5          0.2     setosa\n",
       "..            ...          ...           ...          ...        ...\n",
       "145           6.7          3.0           5.2          2.3  virginica\n",
       "146           6.3          2.5           5.0          1.9  virginica\n",
       "147           6.5          3.0           5.2          2.0  virginica\n",
       "148           6.2          3.4           5.4          2.3  virginica\n",
       "149           5.9          3.0           5.1          1.8  virginica\n",
       "\n",
       "[128 rows x 5 columns]"
      ]
     },
     "execution_count": 44,
     "metadata": {},
     "output_type": "execute_result"
    }
   ],
   "source": [
    "iris[iris.sepal_length >= 5.0]"
   ]
  },
  {
   "cell_type": "markdown",
   "metadata": {},
   "source": [
    "### Changing Values\n",
    "\n",
    "We can change the value of a column similarly to the way we access the DataFrame.\n",
    "\n",
    "For example to change all the values of a column:"
   ]
  },
  {
   "cell_type": "code",
   "execution_count": 45,
   "metadata": {},
   "outputs": [
    {
     "data": {
      "text/html": [
       "<div>\n",
       "<style scoped>\n",
       "    .dataframe tbody tr th:only-of-type {\n",
       "        vertical-align: middle;\n",
       "    }\n",
       "\n",
       "    .dataframe tbody tr th {\n",
       "        vertical-align: top;\n",
       "    }\n",
       "\n",
       "    .dataframe thead th {\n",
       "        text-align: right;\n",
       "    }\n",
       "</style>\n",
       "<table border=\"1\" class=\"dataframe\">\n",
       "  <thead>\n",
       "    <tr style=\"text-align: right;\">\n",
       "      <th></th>\n",
       "      <th>sepal_length</th>\n",
       "      <th>sepal_width</th>\n",
       "      <th>petal_length</th>\n",
       "      <th>petal_width</th>\n",
       "      <th>species</th>\n",
       "    </tr>\n",
       "  </thead>\n",
       "  <tbody>\n",
       "    <tr>\n",
       "      <th>0</th>\n",
       "      <td>0</td>\n",
       "      <td>3.5</td>\n",
       "      <td>1.4</td>\n",
       "      <td>0.2</td>\n",
       "      <td>setosa</td>\n",
       "    </tr>\n",
       "    <tr>\n",
       "      <th>1</th>\n",
       "      <td>0</td>\n",
       "      <td>3.0</td>\n",
       "      <td>1.4</td>\n",
       "      <td>0.2</td>\n",
       "      <td>setosa</td>\n",
       "    </tr>\n",
       "    <tr>\n",
       "      <th>2</th>\n",
       "      <td>0</td>\n",
       "      <td>3.2</td>\n",
       "      <td>1.3</td>\n",
       "      <td>0.2</td>\n",
       "      <td>setosa</td>\n",
       "    </tr>\n",
       "    <tr>\n",
       "      <th>3</th>\n",
       "      <td>0</td>\n",
       "      <td>3.1</td>\n",
       "      <td>1.5</td>\n",
       "      <td>0.2</td>\n",
       "      <td>setosa</td>\n",
       "    </tr>\n",
       "    <tr>\n",
       "      <th>4</th>\n",
       "      <td>0</td>\n",
       "      <td>3.6</td>\n",
       "      <td>1.4</td>\n",
       "      <td>0.2</td>\n",
       "      <td>setosa</td>\n",
       "    </tr>\n",
       "    <tr>\n",
       "      <th>...</th>\n",
       "      <td>...</td>\n",
       "      <td>...</td>\n",
       "      <td>...</td>\n",
       "      <td>...</td>\n",
       "      <td>...</td>\n",
       "    </tr>\n",
       "    <tr>\n",
       "      <th>145</th>\n",
       "      <td>0</td>\n",
       "      <td>3.0</td>\n",
       "      <td>5.2</td>\n",
       "      <td>2.3</td>\n",
       "      <td>virginica</td>\n",
       "    </tr>\n",
       "    <tr>\n",
       "      <th>146</th>\n",
       "      <td>0</td>\n",
       "      <td>2.5</td>\n",
       "      <td>5.0</td>\n",
       "      <td>1.9</td>\n",
       "      <td>virginica</td>\n",
       "    </tr>\n",
       "    <tr>\n",
       "      <th>147</th>\n",
       "      <td>0</td>\n",
       "      <td>3.0</td>\n",
       "      <td>5.2</td>\n",
       "      <td>2.0</td>\n",
       "      <td>virginica</td>\n",
       "    </tr>\n",
       "    <tr>\n",
       "      <th>148</th>\n",
       "      <td>0</td>\n",
       "      <td>3.4</td>\n",
       "      <td>5.4</td>\n",
       "      <td>2.3</td>\n",
       "      <td>virginica</td>\n",
       "    </tr>\n",
       "    <tr>\n",
       "      <th>149</th>\n",
       "      <td>0</td>\n",
       "      <td>3.0</td>\n",
       "      <td>5.1</td>\n",
       "      <td>1.8</td>\n",
       "      <td>virginica</td>\n",
       "    </tr>\n",
       "  </tbody>\n",
       "</table>\n",
       "<p>150 rows × 5 columns</p>\n",
       "</div>"
      ],
      "text/plain": [
       "     sepal_length  sepal_width  petal_length  petal_width    species\n",
       "0               0          3.5           1.4          0.2     setosa\n",
       "1               0          3.0           1.4          0.2     setosa\n",
       "2               0          3.2           1.3          0.2     setosa\n",
       "3               0          3.1           1.5          0.2     setosa\n",
       "4               0          3.6           1.4          0.2     setosa\n",
       "..            ...          ...           ...          ...        ...\n",
       "145             0          3.0           5.2          2.3  virginica\n",
       "146             0          2.5           5.0          1.9  virginica\n",
       "147             0          3.0           5.2          2.0  virginica\n",
       "148             0          3.4           5.4          2.3  virginica\n",
       "149             0          3.0           5.1          1.8  virginica\n",
       "\n",
       "[150 rows x 5 columns]"
      ]
     },
     "execution_count": 45,
     "metadata": {},
     "output_type": "execute_result"
    }
   ],
   "source": [
    "iris.sepal_length = 0\n",
    "iris"
   ]
  },
  {
   "cell_type": "markdown",
   "metadata": {},
   "source": [
    "To change the values of a row:"
   ]
  },
  {
   "cell_type": "code",
   "execution_count": 46,
   "metadata": {},
   "outputs": [
    {
     "data": {
      "text/html": [
       "<div>\n",
       "<style scoped>\n",
       "    .dataframe tbody tr th:only-of-type {\n",
       "        vertical-align: middle;\n",
       "    }\n",
       "\n",
       "    .dataframe tbody tr th {\n",
       "        vertical-align: top;\n",
       "    }\n",
       "\n",
       "    .dataframe thead th {\n",
       "        text-align: right;\n",
       "    }\n",
       "</style>\n",
       "<table border=\"1\" class=\"dataframe\">\n",
       "  <thead>\n",
       "    <tr style=\"text-align: right;\">\n",
       "      <th></th>\n",
       "      <th>sepal_length</th>\n",
       "      <th>sepal_width</th>\n",
       "      <th>petal_length</th>\n",
       "      <th>petal_width</th>\n",
       "      <th>species</th>\n",
       "    </tr>\n",
       "  </thead>\n",
       "  <tbody>\n",
       "    <tr>\n",
       "      <th>0</th>\n",
       "      <td>0</td>\n",
       "      <td>0.0</td>\n",
       "      <td>0.0</td>\n",
       "      <td>0.0</td>\n",
       "      <td>ok</td>\n",
       "    </tr>\n",
       "    <tr>\n",
       "      <th>1</th>\n",
       "      <td>0</td>\n",
       "      <td>3.0</td>\n",
       "      <td>1.4</td>\n",
       "      <td>0.2</td>\n",
       "      <td>setosa</td>\n",
       "    </tr>\n",
       "    <tr>\n",
       "      <th>2</th>\n",
       "      <td>0</td>\n",
       "      <td>3.2</td>\n",
       "      <td>1.3</td>\n",
       "      <td>0.2</td>\n",
       "      <td>setosa</td>\n",
       "    </tr>\n",
       "    <tr>\n",
       "      <th>3</th>\n",
       "      <td>0</td>\n",
       "      <td>3.1</td>\n",
       "      <td>1.5</td>\n",
       "      <td>0.2</td>\n",
       "      <td>setosa</td>\n",
       "    </tr>\n",
       "    <tr>\n",
       "      <th>4</th>\n",
       "      <td>0</td>\n",
       "      <td>3.6</td>\n",
       "      <td>1.4</td>\n",
       "      <td>0.2</td>\n",
       "      <td>setosa</td>\n",
       "    </tr>\n",
       "    <tr>\n",
       "      <th>...</th>\n",
       "      <td>...</td>\n",
       "      <td>...</td>\n",
       "      <td>...</td>\n",
       "      <td>...</td>\n",
       "      <td>...</td>\n",
       "    </tr>\n",
       "    <tr>\n",
       "      <th>145</th>\n",
       "      <td>0</td>\n",
       "      <td>3.0</td>\n",
       "      <td>5.2</td>\n",
       "      <td>2.3</td>\n",
       "      <td>virginica</td>\n",
       "    </tr>\n",
       "    <tr>\n",
       "      <th>146</th>\n",
       "      <td>0</td>\n",
       "      <td>2.5</td>\n",
       "      <td>5.0</td>\n",
       "      <td>1.9</td>\n",
       "      <td>virginica</td>\n",
       "    </tr>\n",
       "    <tr>\n",
       "      <th>147</th>\n",
       "      <td>0</td>\n",
       "      <td>3.0</td>\n",
       "      <td>5.2</td>\n",
       "      <td>2.0</td>\n",
       "      <td>virginica</td>\n",
       "    </tr>\n",
       "    <tr>\n",
       "      <th>148</th>\n",
       "      <td>0</td>\n",
       "      <td>3.4</td>\n",
       "      <td>5.4</td>\n",
       "      <td>2.3</td>\n",
       "      <td>virginica</td>\n",
       "    </tr>\n",
       "    <tr>\n",
       "      <th>149</th>\n",
       "      <td>0</td>\n",
       "      <td>3.0</td>\n",
       "      <td>5.1</td>\n",
       "      <td>1.8</td>\n",
       "      <td>virginica</td>\n",
       "    </tr>\n",
       "  </tbody>\n",
       "</table>\n",
       "<p>150 rows × 5 columns</p>\n",
       "</div>"
      ],
      "text/plain": [
       "     sepal_length  sepal_width  petal_length  petal_width    species\n",
       "0               0          0.0           0.0          0.0         ok\n",
       "1               0          3.0           1.4          0.2     setosa\n",
       "2               0          3.2           1.3          0.2     setosa\n",
       "3               0          3.1           1.5          0.2     setosa\n",
       "4               0          3.6           1.4          0.2     setosa\n",
       "..            ...          ...           ...          ...        ...\n",
       "145             0          3.0           5.2          2.3  virginica\n",
       "146             0          2.5           5.0          1.9  virginica\n",
       "147             0          3.0           5.2          2.0  virginica\n",
       "148             0          3.4           5.4          2.3  virginica\n",
       "149             0          3.0           5.1          1.8  virginica\n",
       "\n",
       "[150 rows x 5 columns]"
      ]
     },
     "execution_count": 46,
     "metadata": {},
     "output_type": "execute_result"
    }
   ],
   "source": [
    "iris.iloc[0] = [0, 0, 0, 0, \"ok\"]\n",
    "iris"
   ]
  },
  {
   "cell_type": "markdown",
   "metadata": {},
   "source": [
    "### Statistical Functions\n",
    "\n",
    "We can use the method mean, std, mode, max, min, etc. To compute any basic statistics we need:"
   ]
  },
  {
   "cell_type": "code",
   "execution_count": 47,
   "metadata": {},
   "outputs": [
    {
     "data": {
      "text/plain": [
       "3.0340000000000003"
      ]
     },
     "execution_count": 47,
     "metadata": {},
     "output_type": "execute_result"
    }
   ],
   "source": [
    "iris.sepal_width.mean()"
   ]
  },
  {
   "cell_type": "code",
   "execution_count": 48,
   "metadata": {},
   "outputs": [
    {
     "data": {
      "text/plain": [
       "0    3.0\n",
       "dtype: float64"
      ]
     },
     "execution_count": 48,
     "metadata": {},
     "output_type": "execute_result"
    }
   ],
   "source": [
    "iris.sepal_width.mode()"
   ]
  },
  {
   "cell_type": "code",
   "execution_count": 49,
   "metadata": {},
   "outputs": [
    {
     "data": {
      "text/plain": [
       "0.5008489437240835"
      ]
     },
     "execution_count": 49,
     "metadata": {},
     "output_type": "execute_result"
    }
   ],
   "source": [
    "iris.sepal_width.std()"
   ]
  },
  {
   "cell_type": "markdown",
   "metadata": {},
   "source": [
    "### Plotting with Pandas\n",
    "\n",
    "Pandas uses matplotlib to plot series. For example we can plot a column using the plot method:"
   ]
  },
  {
   "cell_type": "code",
   "execution_count": 35,
   "metadata": {},
   "outputs": [
    {
     "data": {
      "application/javascript": [
       "/* Put everything inside the global mpl namespace */\n",
       "window.mpl = {};\n",
       "\n",
       "\n",
       "mpl.get_websocket_type = function() {\n",
       "    if (typeof(WebSocket) !== 'undefined') {\n",
       "        return WebSocket;\n",
       "    } else if (typeof(MozWebSocket) !== 'undefined') {\n",
       "        return MozWebSocket;\n",
       "    } else {\n",
       "        alert('Your browser does not have WebSocket support. ' +\n",
       "              'Please try Chrome, Safari or Firefox ≥ 6. ' +\n",
       "              'Firefox 4 and 5 are also supported but you ' +\n",
       "              'have to enable WebSockets in about:config.');\n",
       "    };\n",
       "}\n",
       "\n",
       "mpl.figure = function(figure_id, websocket, ondownload, parent_element) {\n",
       "    this.id = figure_id;\n",
       "\n",
       "    this.ws = websocket;\n",
       "\n",
       "    this.supports_binary = (this.ws.binaryType != undefined);\n",
       "\n",
       "    if (!this.supports_binary) {\n",
       "        var warnings = document.getElementById(\"mpl-warnings\");\n",
       "        if (warnings) {\n",
       "            warnings.style.display = 'block';\n",
       "            warnings.textContent = (\n",
       "                \"This browser does not support binary websocket messages. \" +\n",
       "                    \"Performance may be slow.\");\n",
       "        }\n",
       "    }\n",
       "\n",
       "    this.imageObj = new Image();\n",
       "\n",
       "    this.context = undefined;\n",
       "    this.message = undefined;\n",
       "    this.canvas = undefined;\n",
       "    this.rubberband_canvas = undefined;\n",
       "    this.rubberband_context = undefined;\n",
       "    this.format_dropdown = undefined;\n",
       "\n",
       "    this.image_mode = 'full';\n",
       "\n",
       "    this.root = $('<div/>');\n",
       "    this._root_extra_style(this.root)\n",
       "    this.root.attr('style', 'display: inline-block');\n",
       "\n",
       "    $(parent_element).append(this.root);\n",
       "\n",
       "    this._init_header(this);\n",
       "    this._init_canvas(this);\n",
       "    this._init_toolbar(this);\n",
       "\n",
       "    var fig = this;\n",
       "\n",
       "    this.waiting = false;\n",
       "\n",
       "    this.ws.onopen =  function () {\n",
       "            fig.send_message(\"supports_binary\", {value: fig.supports_binary});\n",
       "            fig.send_message(\"send_image_mode\", {});\n",
       "            if (mpl.ratio != 1) {\n",
       "                fig.send_message(\"set_dpi_ratio\", {'dpi_ratio': mpl.ratio});\n",
       "            }\n",
       "            fig.send_message(\"refresh\", {});\n",
       "        }\n",
       "\n",
       "    this.imageObj.onload = function() {\n",
       "            if (fig.image_mode == 'full') {\n",
       "                // Full images could contain transparency (where diff images\n",
       "                // almost always do), so we need to clear the canvas so that\n",
       "                // there is no ghosting.\n",
       "                fig.context.clearRect(0, 0, fig.canvas.width, fig.canvas.height);\n",
       "            }\n",
       "            fig.context.drawImage(fig.imageObj, 0, 0);\n",
       "        };\n",
       "\n",
       "    this.imageObj.onunload = function() {\n",
       "        fig.ws.close();\n",
       "    }\n",
       "\n",
       "    this.ws.onmessage = this._make_on_message_function(this);\n",
       "\n",
       "    this.ondownload = ondownload;\n",
       "}\n",
       "\n",
       "mpl.figure.prototype._init_header = function() {\n",
       "    var titlebar = $(\n",
       "        '<div class=\"ui-dialog-titlebar ui-widget-header ui-corner-all ' +\n",
       "        'ui-helper-clearfix\"/>');\n",
       "    var titletext = $(\n",
       "        '<div class=\"ui-dialog-title\" style=\"width: 100%; ' +\n",
       "        'text-align: center; padding: 3px;\"/>');\n",
       "    titlebar.append(titletext)\n",
       "    this.root.append(titlebar);\n",
       "    this.header = titletext[0];\n",
       "}\n",
       "\n",
       "\n",
       "\n",
       "mpl.figure.prototype._canvas_extra_style = function(canvas_div) {\n",
       "\n",
       "}\n",
       "\n",
       "\n",
       "mpl.figure.prototype._root_extra_style = function(canvas_div) {\n",
       "\n",
       "}\n",
       "\n",
       "mpl.figure.prototype._init_canvas = function() {\n",
       "    var fig = this;\n",
       "\n",
       "    var canvas_div = $('<div/>');\n",
       "\n",
       "    canvas_div.attr('style', 'position: relative; clear: both; outline: 0');\n",
       "\n",
       "    function canvas_keyboard_event(event) {\n",
       "        return fig.key_event(event, event['data']);\n",
       "    }\n",
       "\n",
       "    canvas_div.keydown('key_press', canvas_keyboard_event);\n",
       "    canvas_div.keyup('key_release', canvas_keyboard_event);\n",
       "    this.canvas_div = canvas_div\n",
       "    this._canvas_extra_style(canvas_div)\n",
       "    this.root.append(canvas_div);\n",
       "\n",
       "    var canvas = $('<canvas/>');\n",
       "    canvas.addClass('mpl-canvas');\n",
       "    canvas.attr('style', \"left: 0; top: 0; z-index: 0; outline: 0\")\n",
       "\n",
       "    this.canvas = canvas[0];\n",
       "    this.context = canvas[0].getContext(\"2d\");\n",
       "\n",
       "    var backingStore = this.context.backingStorePixelRatio ||\n",
       "\tthis.context.webkitBackingStorePixelRatio ||\n",
       "\tthis.context.mozBackingStorePixelRatio ||\n",
       "\tthis.context.msBackingStorePixelRatio ||\n",
       "\tthis.context.oBackingStorePixelRatio ||\n",
       "\tthis.context.backingStorePixelRatio || 1;\n",
       "\n",
       "    mpl.ratio = (window.devicePixelRatio || 1) / backingStore;\n",
       "\n",
       "    var rubberband = $('<canvas/>');\n",
       "    rubberband.attr('style', \"position: absolute; left: 0; top: 0; z-index: 1;\")\n",
       "\n",
       "    var pass_mouse_events = true;\n",
       "\n",
       "    canvas_div.resizable({\n",
       "        start: function(event, ui) {\n",
       "            pass_mouse_events = false;\n",
       "        },\n",
       "        resize: function(event, ui) {\n",
       "            fig.request_resize(ui.size.width, ui.size.height);\n",
       "        },\n",
       "        stop: function(event, ui) {\n",
       "            pass_mouse_events = true;\n",
       "            fig.request_resize(ui.size.width, ui.size.height);\n",
       "        },\n",
       "    });\n",
       "\n",
       "    function mouse_event_fn(event) {\n",
       "        if (pass_mouse_events)\n",
       "            return fig.mouse_event(event, event['data']);\n",
       "    }\n",
       "\n",
       "    rubberband.mousedown('button_press', mouse_event_fn);\n",
       "    rubberband.mouseup('button_release', mouse_event_fn);\n",
       "    // Throttle sequential mouse events to 1 every 20ms.\n",
       "    rubberband.mousemove('motion_notify', mouse_event_fn);\n",
       "\n",
       "    rubberband.mouseenter('figure_enter', mouse_event_fn);\n",
       "    rubberband.mouseleave('figure_leave', mouse_event_fn);\n",
       "\n",
       "    canvas_div.on(\"wheel\", function (event) {\n",
       "        event = event.originalEvent;\n",
       "        event['data'] = 'scroll'\n",
       "        if (event.deltaY < 0) {\n",
       "            event.step = 1;\n",
       "        } else {\n",
       "            event.step = -1;\n",
       "        }\n",
       "        mouse_event_fn(event);\n",
       "    });\n",
       "\n",
       "    canvas_div.append(canvas);\n",
       "    canvas_div.append(rubberband);\n",
       "\n",
       "    this.rubberband = rubberband;\n",
       "    this.rubberband_canvas = rubberband[0];\n",
       "    this.rubberband_context = rubberband[0].getContext(\"2d\");\n",
       "    this.rubberband_context.strokeStyle = \"#000000\";\n",
       "\n",
       "    this._resize_canvas = function(width, height) {\n",
       "        // Keep the size of the canvas, canvas container, and rubber band\n",
       "        // canvas in synch.\n",
       "        canvas_div.css('width', width)\n",
       "        canvas_div.css('height', height)\n",
       "\n",
       "        canvas.attr('width', width * mpl.ratio);\n",
       "        canvas.attr('height', height * mpl.ratio);\n",
       "        canvas.attr('style', 'width: ' + width + 'px; height: ' + height + 'px;');\n",
       "\n",
       "        rubberband.attr('width', width);\n",
       "        rubberband.attr('height', height);\n",
       "    }\n",
       "\n",
       "    // Set the figure to an initial 600x600px, this will subsequently be updated\n",
       "    // upon first draw.\n",
       "    this._resize_canvas(600, 600);\n",
       "\n",
       "    // Disable right mouse context menu.\n",
       "    $(this.rubberband_canvas).bind(\"contextmenu\",function(e){\n",
       "        return false;\n",
       "    });\n",
       "\n",
       "    function set_focus () {\n",
       "        canvas.focus();\n",
       "        canvas_div.focus();\n",
       "    }\n",
       "\n",
       "    window.setTimeout(set_focus, 100);\n",
       "}\n",
       "\n",
       "mpl.figure.prototype._init_toolbar = function() {\n",
       "    var fig = this;\n",
       "\n",
       "    var nav_element = $('<div/>');\n",
       "    nav_element.attr('style', 'width: 100%');\n",
       "    this.root.append(nav_element);\n",
       "\n",
       "    // Define a callback function for later on.\n",
       "    function toolbar_event(event) {\n",
       "        return fig.toolbar_button_onclick(event['data']);\n",
       "    }\n",
       "    function toolbar_mouse_event(event) {\n",
       "        return fig.toolbar_button_onmouseover(event['data']);\n",
       "    }\n",
       "\n",
       "    for(var toolbar_ind in mpl.toolbar_items) {\n",
       "        var name = mpl.toolbar_items[toolbar_ind][0];\n",
       "        var tooltip = mpl.toolbar_items[toolbar_ind][1];\n",
       "        var image = mpl.toolbar_items[toolbar_ind][2];\n",
       "        var method_name = mpl.toolbar_items[toolbar_ind][3];\n",
       "\n",
       "        if (!name) {\n",
       "            // put a spacer in here.\n",
       "            continue;\n",
       "        }\n",
       "        var button = $('<button/>');\n",
       "        button.addClass('ui-button ui-widget ui-state-default ui-corner-all ' +\n",
       "                        'ui-button-icon-only');\n",
       "        button.attr('role', 'button');\n",
       "        button.attr('aria-disabled', 'false');\n",
       "        button.click(method_name, toolbar_event);\n",
       "        button.mouseover(tooltip, toolbar_mouse_event);\n",
       "\n",
       "        var icon_img = $('<span/>');\n",
       "        icon_img.addClass('ui-button-icon-primary ui-icon');\n",
       "        icon_img.addClass(image);\n",
       "        icon_img.addClass('ui-corner-all');\n",
       "\n",
       "        var tooltip_span = $('<span/>');\n",
       "        tooltip_span.addClass('ui-button-text');\n",
       "        tooltip_span.html(tooltip);\n",
       "\n",
       "        button.append(icon_img);\n",
       "        button.append(tooltip_span);\n",
       "\n",
       "        nav_element.append(button);\n",
       "    }\n",
       "\n",
       "    var fmt_picker_span = $('<span/>');\n",
       "\n",
       "    var fmt_picker = $('<select/>');\n",
       "    fmt_picker.addClass('mpl-toolbar-option ui-widget ui-widget-content');\n",
       "    fmt_picker_span.append(fmt_picker);\n",
       "    nav_element.append(fmt_picker_span);\n",
       "    this.format_dropdown = fmt_picker[0];\n",
       "\n",
       "    for (var ind in mpl.extensions) {\n",
       "        var fmt = mpl.extensions[ind];\n",
       "        var option = $(\n",
       "            '<option/>', {selected: fmt === mpl.default_extension}).html(fmt);\n",
       "        fmt_picker.append(option);\n",
       "    }\n",
       "\n",
       "    // Add hover states to the ui-buttons\n",
       "    $( \".ui-button\" ).hover(\n",
       "        function() { $(this).addClass(\"ui-state-hover\");},\n",
       "        function() { $(this).removeClass(\"ui-state-hover\");}\n",
       "    );\n",
       "\n",
       "    var status_bar = $('<span class=\"mpl-message\"/>');\n",
       "    nav_element.append(status_bar);\n",
       "    this.message = status_bar[0];\n",
       "}\n",
       "\n",
       "mpl.figure.prototype.request_resize = function(x_pixels, y_pixels) {\n",
       "    // Request matplotlib to resize the figure. Matplotlib will then trigger a resize in the client,\n",
       "    // which will in turn request a refresh of the image.\n",
       "    this.send_message('resize', {'width': x_pixels, 'height': y_pixels});\n",
       "}\n",
       "\n",
       "mpl.figure.prototype.send_message = function(type, properties) {\n",
       "    properties['type'] = type;\n",
       "    properties['figure_id'] = this.id;\n",
       "    this.ws.send(JSON.stringify(properties));\n",
       "}\n",
       "\n",
       "mpl.figure.prototype.send_draw_message = function() {\n",
       "    if (!this.waiting) {\n",
       "        this.waiting = true;\n",
       "        this.ws.send(JSON.stringify({type: \"draw\", figure_id: this.id}));\n",
       "    }\n",
       "}\n",
       "\n",
       "\n",
       "mpl.figure.prototype.handle_save = function(fig, msg) {\n",
       "    var format_dropdown = fig.format_dropdown;\n",
       "    var format = format_dropdown.options[format_dropdown.selectedIndex].value;\n",
       "    fig.ondownload(fig, format);\n",
       "}\n",
       "\n",
       "\n",
       "mpl.figure.prototype.handle_resize = function(fig, msg) {\n",
       "    var size = msg['size'];\n",
       "    if (size[0] != fig.canvas.width || size[1] != fig.canvas.height) {\n",
       "        fig._resize_canvas(size[0], size[1]);\n",
       "        fig.send_message(\"refresh\", {});\n",
       "    };\n",
       "}\n",
       "\n",
       "mpl.figure.prototype.handle_rubberband = function(fig, msg) {\n",
       "    var x0 = msg['x0'] / mpl.ratio;\n",
       "    var y0 = (fig.canvas.height - msg['y0']) / mpl.ratio;\n",
       "    var x1 = msg['x1'] / mpl.ratio;\n",
       "    var y1 = (fig.canvas.height - msg['y1']) / mpl.ratio;\n",
       "    x0 = Math.floor(x0) + 0.5;\n",
       "    y0 = Math.floor(y0) + 0.5;\n",
       "    x1 = Math.floor(x1) + 0.5;\n",
       "    y1 = Math.floor(y1) + 0.5;\n",
       "    var min_x = Math.min(x0, x1);\n",
       "    var min_y = Math.min(y0, y1);\n",
       "    var width = Math.abs(x1 - x0);\n",
       "    var height = Math.abs(y1 - y0);\n",
       "\n",
       "    fig.rubberband_context.clearRect(\n",
       "        0, 0, fig.canvas.width / mpl.ratio, fig.canvas.height / mpl.ratio);\n",
       "\n",
       "    fig.rubberband_context.strokeRect(min_x, min_y, width, height);\n",
       "}\n",
       "\n",
       "mpl.figure.prototype.handle_figure_label = function(fig, msg) {\n",
       "    // Updates the figure title.\n",
       "    fig.header.textContent = msg['label'];\n",
       "}\n",
       "\n",
       "mpl.figure.prototype.handle_cursor = function(fig, msg) {\n",
       "    var cursor = msg['cursor'];\n",
       "    switch(cursor)\n",
       "    {\n",
       "    case 0:\n",
       "        cursor = 'pointer';\n",
       "        break;\n",
       "    case 1:\n",
       "        cursor = 'default';\n",
       "        break;\n",
       "    case 2:\n",
       "        cursor = 'crosshair';\n",
       "        break;\n",
       "    case 3:\n",
       "        cursor = 'move';\n",
       "        break;\n",
       "    }\n",
       "    fig.rubberband_canvas.style.cursor = cursor;\n",
       "}\n",
       "\n",
       "mpl.figure.prototype.handle_message = function(fig, msg) {\n",
       "    fig.message.textContent = msg['message'];\n",
       "}\n",
       "\n",
       "mpl.figure.prototype.handle_draw = function(fig, msg) {\n",
       "    // Request the server to send over a new figure.\n",
       "    fig.send_draw_message();\n",
       "}\n",
       "\n",
       "mpl.figure.prototype.handle_image_mode = function(fig, msg) {\n",
       "    fig.image_mode = msg['mode'];\n",
       "}\n",
       "\n",
       "mpl.figure.prototype.updated_canvas_event = function() {\n",
       "    // Called whenever the canvas gets updated.\n",
       "    this.send_message(\"ack\", {});\n",
       "}\n",
       "\n",
       "// A function to construct a web socket function for onmessage handling.\n",
       "// Called in the figure constructor.\n",
       "mpl.figure.prototype._make_on_message_function = function(fig) {\n",
       "    return function socket_on_message(evt) {\n",
       "        if (evt.data instanceof Blob) {\n",
       "            /* FIXME: We get \"Resource interpreted as Image but\n",
       "             * transferred with MIME type text/plain:\" errors on\n",
       "             * Chrome.  But how to set the MIME type?  It doesn't seem\n",
       "             * to be part of the websocket stream */\n",
       "            evt.data.type = \"image/png\";\n",
       "\n",
       "            /* Free the memory for the previous frames */\n",
       "            if (fig.imageObj.src) {\n",
       "                (window.URL || window.webkitURL).revokeObjectURL(\n",
       "                    fig.imageObj.src);\n",
       "            }\n",
       "\n",
       "            fig.imageObj.src = (window.URL || window.webkitURL).createObjectURL(\n",
       "                evt.data);\n",
       "            fig.updated_canvas_event();\n",
       "            fig.waiting = false;\n",
       "            return;\n",
       "        }\n",
       "        else if (typeof evt.data === 'string' && evt.data.slice(0, 21) == \"data:image/png;base64\") {\n",
       "            fig.imageObj.src = evt.data;\n",
       "            fig.updated_canvas_event();\n",
       "            fig.waiting = false;\n",
       "            return;\n",
       "        }\n",
       "\n",
       "        var msg = JSON.parse(evt.data);\n",
       "        var msg_type = msg['type'];\n",
       "\n",
       "        // Call the  \"handle_{type}\" callback, which takes\n",
       "        // the figure and JSON message as its only arguments.\n",
       "        try {\n",
       "            var callback = fig[\"handle_\" + msg_type];\n",
       "        } catch (e) {\n",
       "            console.log(\"No handler for the '\" + msg_type + \"' message type: \", msg);\n",
       "            return;\n",
       "        }\n",
       "\n",
       "        if (callback) {\n",
       "            try {\n",
       "                // console.log(\"Handling '\" + msg_type + \"' message: \", msg);\n",
       "                callback(fig, msg);\n",
       "            } catch (e) {\n",
       "                console.log(\"Exception inside the 'handler_\" + msg_type + \"' callback:\", e, e.stack, msg);\n",
       "            }\n",
       "        }\n",
       "    };\n",
       "}\n",
       "\n",
       "// from http://stackoverflow.com/questions/1114465/getting-mouse-location-in-canvas\n",
       "mpl.findpos = function(e) {\n",
       "    //this section is from http://www.quirksmode.org/js/events_properties.html\n",
       "    var targ;\n",
       "    if (!e)\n",
       "        e = window.event;\n",
       "    if (e.target)\n",
       "        targ = e.target;\n",
       "    else if (e.srcElement)\n",
       "        targ = e.srcElement;\n",
       "    if (targ.nodeType == 3) // defeat Safari bug\n",
       "        targ = targ.parentNode;\n",
       "\n",
       "    // jQuery normalizes the pageX and pageY\n",
       "    // pageX,Y are the mouse positions relative to the document\n",
       "    // offset() returns the position of the element relative to the document\n",
       "    var x = e.pageX - $(targ).offset().left;\n",
       "    var y = e.pageY - $(targ).offset().top;\n",
       "\n",
       "    return {\"x\": x, \"y\": y};\n",
       "};\n",
       "\n",
       "/*\n",
       " * return a copy of an object with only non-object keys\n",
       " * we need this to avoid circular references\n",
       " * http://stackoverflow.com/a/24161582/3208463\n",
       " */\n",
       "function simpleKeys (original) {\n",
       "  return Object.keys(original).reduce(function (obj, key) {\n",
       "    if (typeof original[key] !== 'object')\n",
       "        obj[key] = original[key]\n",
       "    return obj;\n",
       "  }, {});\n",
       "}\n",
       "\n",
       "mpl.figure.prototype.mouse_event = function(event, name) {\n",
       "    var canvas_pos = mpl.findpos(event)\n",
       "\n",
       "    if (name === 'button_press')\n",
       "    {\n",
       "        this.canvas.focus();\n",
       "        this.canvas_div.focus();\n",
       "    }\n",
       "\n",
       "    var x = canvas_pos.x * mpl.ratio;\n",
       "    var y = canvas_pos.y * mpl.ratio;\n",
       "\n",
       "    this.send_message(name, {x: x, y: y, button: event.button,\n",
       "                             step: event.step,\n",
       "                             guiEvent: simpleKeys(event)});\n",
       "\n",
       "    /* This prevents the web browser from automatically changing to\n",
       "     * the text insertion cursor when the button is pressed.  We want\n",
       "     * to control all of the cursor setting manually through the\n",
       "     * 'cursor' event from matplotlib */\n",
       "    event.preventDefault();\n",
       "    return false;\n",
       "}\n",
       "\n",
       "mpl.figure.prototype._key_event_extra = function(event, name) {\n",
       "    // Handle any extra behaviour associated with a key event\n",
       "}\n",
       "\n",
       "mpl.figure.prototype.key_event = function(event, name) {\n",
       "\n",
       "    // Prevent repeat events\n",
       "    if (name == 'key_press')\n",
       "    {\n",
       "        if (event.which === this._key)\n",
       "            return;\n",
       "        else\n",
       "            this._key = event.which;\n",
       "    }\n",
       "    if (name == 'key_release')\n",
       "        this._key = null;\n",
       "\n",
       "    var value = '';\n",
       "    if (event.ctrlKey && event.which != 17)\n",
       "        value += \"ctrl+\";\n",
       "    if (event.altKey && event.which != 18)\n",
       "        value += \"alt+\";\n",
       "    if (event.shiftKey && event.which != 16)\n",
       "        value += \"shift+\";\n",
       "\n",
       "    value += 'k';\n",
       "    value += event.which.toString();\n",
       "\n",
       "    this._key_event_extra(event, name);\n",
       "\n",
       "    this.send_message(name, {key: value,\n",
       "                             guiEvent: simpleKeys(event)});\n",
       "    return false;\n",
       "}\n",
       "\n",
       "mpl.figure.prototype.toolbar_button_onclick = function(name) {\n",
       "    if (name == 'download') {\n",
       "        this.handle_save(this, null);\n",
       "    } else {\n",
       "        this.send_message(\"toolbar_button\", {name: name});\n",
       "    }\n",
       "};\n",
       "\n",
       "mpl.figure.prototype.toolbar_button_onmouseover = function(tooltip) {\n",
       "    this.message.textContent = tooltip;\n",
       "};\n",
       "mpl.toolbar_items = [[\"Home\", \"Reset original view\", \"fa fa-home icon-home\", \"home\"], [\"Back\", \"Back to previous view\", \"fa fa-arrow-left icon-arrow-left\", \"back\"], [\"Forward\", \"Forward to next view\", \"fa fa-arrow-right icon-arrow-right\", \"forward\"], [\"\", \"\", \"\", \"\"], [\"Pan\", \"Pan axes with left mouse, zoom with right\", \"fa fa-arrows icon-move\", \"pan\"], [\"Zoom\", \"Zoom to rectangle\", \"fa fa-square-o icon-check-empty\", \"zoom\"], [\"\", \"\", \"\", \"\"], [\"Download\", \"Download plot\", \"fa fa-floppy-o icon-save\", \"download\"]];\n",
       "\n",
       "mpl.extensions = [\"eps\", \"jpeg\", \"pdf\", \"png\", \"ps\", \"raw\", \"svg\", \"tif\"];\n",
       "\n",
       "mpl.default_extension = \"png\";var comm_websocket_adapter = function(comm) {\n",
       "    // Create a \"websocket\"-like object which calls the given IPython comm\n",
       "    // object with the appropriate methods. Currently this is a non binary\n",
       "    // socket, so there is still some room for performance tuning.\n",
       "    var ws = {};\n",
       "\n",
       "    ws.close = function() {\n",
       "        comm.close()\n",
       "    };\n",
       "    ws.send = function(m) {\n",
       "        //console.log('sending', m);\n",
       "        comm.send(m);\n",
       "    };\n",
       "    // Register the callback with on_msg.\n",
       "    comm.on_msg(function(msg) {\n",
       "        //console.log('receiving', msg['content']['data'], msg);\n",
       "        // Pass the mpl event to the overridden (by mpl) onmessage function.\n",
       "        ws.onmessage(msg['content']['data'])\n",
       "    });\n",
       "    return ws;\n",
       "}\n",
       "\n",
       "mpl.mpl_figure_comm = function(comm, msg) {\n",
       "    // This is the function which gets called when the mpl process\n",
       "    // starts-up an IPython Comm through the \"matplotlib\" channel.\n",
       "\n",
       "    var id = msg.content.data.id;\n",
       "    // Get hold of the div created by the display call when the Comm\n",
       "    // socket was opened in Python.\n",
       "    var element = $(\"#\" + id);\n",
       "    var ws_proxy = comm_websocket_adapter(comm)\n",
       "\n",
       "    function ondownload(figure, format) {\n",
       "        window.open(figure.imageObj.src);\n",
       "    }\n",
       "\n",
       "    var fig = new mpl.figure(id, ws_proxy,\n",
       "                           ondownload,\n",
       "                           element.get(0));\n",
       "\n",
       "    // Call onopen now - mpl needs it, as it is assuming we've passed it a real\n",
       "    // web socket which is closed, not our websocket->open comm proxy.\n",
       "    ws_proxy.onopen();\n",
       "\n",
       "    fig.parent_element = element.get(0);\n",
       "    fig.cell_info = mpl.find_output_cell(\"<div id='\" + id + \"'></div>\");\n",
       "    if (!fig.cell_info) {\n",
       "        console.error(\"Failed to find cell for figure\", id, fig);\n",
       "        return;\n",
       "    }\n",
       "\n",
       "    var output_index = fig.cell_info[2]\n",
       "    var cell = fig.cell_info[0];\n",
       "\n",
       "};\n",
       "\n",
       "mpl.figure.prototype.handle_close = function(fig, msg) {\n",
       "    var width = fig.canvas.width/mpl.ratio\n",
       "    fig.root.unbind('remove')\n",
       "\n",
       "    // Update the output cell to use the data from the current canvas.\n",
       "    fig.push_to_output();\n",
       "    var dataURL = fig.canvas.toDataURL();\n",
       "    // Re-enable the keyboard manager in IPython - without this line, in FF,\n",
       "    // the notebook keyboard shortcuts fail.\n",
       "    IPython.keyboard_manager.enable()\n",
       "    $(fig.parent_element).html('<img src=\"' + dataURL + '\" width=\"' + width + '\">');\n",
       "    fig.close_ws(fig, msg);\n",
       "}\n",
       "\n",
       "mpl.figure.prototype.close_ws = function(fig, msg){\n",
       "    fig.send_message('closing', msg);\n",
       "    // fig.ws.close()\n",
       "}\n",
       "\n",
       "mpl.figure.prototype.push_to_output = function(remove_interactive) {\n",
       "    // Turn the data on the canvas into data in the output cell.\n",
       "    var width = this.canvas.width/mpl.ratio\n",
       "    var dataURL = this.canvas.toDataURL();\n",
       "    this.cell_info[1]['text/html'] = '<img src=\"' + dataURL + '\" width=\"' + width + '\">';\n",
       "}\n",
       "\n",
       "mpl.figure.prototype.updated_canvas_event = function() {\n",
       "    // Tell IPython that the notebook contents must change.\n",
       "    IPython.notebook.set_dirty(true);\n",
       "    this.send_message(\"ack\", {});\n",
       "    var fig = this;\n",
       "    // Wait a second, then push the new image to the DOM so\n",
       "    // that it is saved nicely (might be nice to debounce this).\n",
       "    setTimeout(function () { fig.push_to_output() }, 1000);\n",
       "}\n",
       "\n",
       "mpl.figure.prototype._init_toolbar = function() {\n",
       "    var fig = this;\n",
       "\n",
       "    var nav_element = $('<div/>');\n",
       "    nav_element.attr('style', 'width: 100%');\n",
       "    this.root.append(nav_element);\n",
       "\n",
       "    // Define a callback function for later on.\n",
       "    function toolbar_event(event) {\n",
       "        return fig.toolbar_button_onclick(event['data']);\n",
       "    }\n",
       "    function toolbar_mouse_event(event) {\n",
       "        return fig.toolbar_button_onmouseover(event['data']);\n",
       "    }\n",
       "\n",
       "    for(var toolbar_ind in mpl.toolbar_items){\n",
       "        var name = mpl.toolbar_items[toolbar_ind][0];\n",
       "        var tooltip = mpl.toolbar_items[toolbar_ind][1];\n",
       "        var image = mpl.toolbar_items[toolbar_ind][2];\n",
       "        var method_name = mpl.toolbar_items[toolbar_ind][3];\n",
       "\n",
       "        if (!name) { continue; };\n",
       "\n",
       "        var button = $('<button class=\"btn btn-default\" href=\"#\" title=\"' + name + '\"><i class=\"fa ' + image + ' fa-lg\"></i></button>');\n",
       "        button.click(method_name, toolbar_event);\n",
       "        button.mouseover(tooltip, toolbar_mouse_event);\n",
       "        nav_element.append(button);\n",
       "    }\n",
       "\n",
       "    // Add the status bar.\n",
       "    var status_bar = $('<span class=\"mpl-message\" style=\"text-align:right; float: right;\"/>');\n",
       "    nav_element.append(status_bar);\n",
       "    this.message = status_bar[0];\n",
       "\n",
       "    // Add the close button to the window.\n",
       "    var buttongrp = $('<div class=\"btn-group inline pull-right\"></div>');\n",
       "    var button = $('<button class=\"btn btn-mini btn-primary\" href=\"#\" title=\"Stop Interaction\"><i class=\"fa fa-power-off icon-remove icon-large\"></i></button>');\n",
       "    button.click(function (evt) { fig.handle_close(fig, {}); } );\n",
       "    button.mouseover('Stop Interaction', toolbar_mouse_event);\n",
       "    buttongrp.append(button);\n",
       "    var titlebar = this.root.find($('.ui-dialog-titlebar'));\n",
       "    titlebar.prepend(buttongrp);\n",
       "}\n",
       "\n",
       "mpl.figure.prototype._root_extra_style = function(el){\n",
       "    var fig = this\n",
       "    el.on(\"remove\", function(){\n",
       "\tfig.close_ws(fig, {});\n",
       "    });\n",
       "}\n",
       "\n",
       "mpl.figure.prototype._canvas_extra_style = function(el){\n",
       "    // this is important to make the div 'focusable\n",
       "    el.attr('tabindex', 0)\n",
       "    // reach out to IPython and tell the keyboard manager to turn it's self\n",
       "    // off when our div gets focus\n",
       "\n",
       "    // location in version 3\n",
       "    if (IPython.notebook.keyboard_manager) {\n",
       "        IPython.notebook.keyboard_manager.register_events(el);\n",
       "    }\n",
       "    else {\n",
       "        // location in version 2\n",
       "        IPython.keyboard_manager.register_events(el);\n",
       "    }\n",
       "\n",
       "}\n",
       "\n",
       "mpl.figure.prototype._key_event_extra = function(event, name) {\n",
       "    var manager = IPython.notebook.keyboard_manager;\n",
       "    if (!manager)\n",
       "        manager = IPython.keyboard_manager;\n",
       "\n",
       "    // Check for shift+enter\n",
       "    if (event.shiftKey && event.which == 13) {\n",
       "        this.canvas_div.blur();\n",
       "        event.shiftKey = false;\n",
       "        // Send a \"J\" for go to next cell\n",
       "        event.which = 74;\n",
       "        event.keyCode = 74;\n",
       "        manager.command_mode();\n",
       "        manager.handle_keydown(event);\n",
       "    }\n",
       "}\n",
       "\n",
       "mpl.figure.prototype.handle_save = function(fig, msg) {\n",
       "    fig.ondownload(fig, null);\n",
       "}\n",
       "\n",
       "\n",
       "mpl.find_output_cell = function(html_output) {\n",
       "    // Return the cell and output element which can be found *uniquely* in the notebook.\n",
       "    // Note - this is a bit hacky, but it is done because the \"notebook_saving.Notebook\"\n",
       "    // IPython event is triggered only after the cells have been serialised, which for\n",
       "    // our purposes (turning an active figure into a static one), is too late.\n",
       "    var cells = IPython.notebook.get_cells();\n",
       "    var ncells = cells.length;\n",
       "    for (var i=0; i<ncells; i++) {\n",
       "        var cell = cells[i];\n",
       "        if (cell.cell_type === 'code'){\n",
       "            for (var j=0; j<cell.output_area.outputs.length; j++) {\n",
       "                var data = cell.output_area.outputs[j];\n",
       "                if (data.data) {\n",
       "                    // IPython >= 3 moved mimebundle to data attribute of output\n",
       "                    data = data.data;\n",
       "                }\n",
       "                if (data['text/html'] == html_output) {\n",
       "                    return [cell, data, j];\n",
       "                }\n",
       "            }\n",
       "        }\n",
       "    }\n",
       "}\n",
       "\n",
       "// Register the function which deals with the matplotlib target/channel.\n",
       "// The kernel may be null if the page has been refreshed.\n",
       "if (IPython.notebook.kernel != null) {\n",
       "    IPython.notebook.kernel.comm_manager.register_target('matplotlib', mpl.mpl_figure_comm);\n",
       "}\n"
      ],
      "text/plain": [
       "<IPython.core.display.Javascript object>"
      ]
     },
     "metadata": {},
     "output_type": "display_data"
    },
    {
     "data": {
      "text/html": [
       "<img src=\"data:image/png;base64,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\" width=\"640\">"
      ],
      "text/plain": [
       "<IPython.core.display.HTML object>"
      ]
     },
     "metadata": {},
     "output_type": "display_data"
    },
    {
     "data": {
      "text/plain": [
       "<matplotlib.axes._subplots.AxesSubplot at 0x2a0eb7b0e08>"
      ]
     },
     "execution_count": 35,
     "metadata": {},
     "output_type": "execute_result"
    }
   ],
   "source": [
    "%matplotlib notebook\n",
    "\n",
    "iris.sepal_width.plot()"
   ]
  },
  {
   "cell_type": "markdown",
   "metadata": {},
   "source": [
    "We can also plot the histogram of the column like this:"
   ]
  },
  {
   "cell_type": "code",
   "execution_count": 51,
   "metadata": {},
   "outputs": [
    {
     "data": {
      "text/plain": [
       "<matplotlib.axes._subplots.AxesSubplot at 0x1220754e0>"
      ]
     },
     "execution_count": 51,
     "metadata": {},
     "output_type": "execute_result"
    }
   ],
   "source": [
    "iris.sepal_width.hist()"
   ]
  },
  {
   "cell_type": "markdown",
   "metadata": {},
   "source": [
    "# Exercise 28\n",
    "\n",
    "Reload the IRIS dataset and compute the standard error of each numerical column per flower species, and store them into the DataFrame.\n",
    "\n",
    "The standard error for a normal distribution is computed like this:\n",
    "\n",
    "$$\\mu \\pm 1.96 \\sqrt{\\frac{\\sigma^2}{n}}$$\n",
    "\n",
    "where, $\\mu$ is the mean, $\\sigma^2$ is the variance, 1.96 is the approximate value of the 97.5 percentile point of the normal distribution, and $n$ is the sample size."
   ]
  },
  {
   "cell_type": "code",
   "execution_count": 39,
   "metadata": {},
   "outputs": [
    {
     "data": {
      "text/html": [
       "<div>\n",
       "<style scoped>\n",
       "    .dataframe tbody tr th:only-of-type {\n",
       "        vertical-align: middle;\n",
       "    }\n",
       "\n",
       "    .dataframe tbody tr th {\n",
       "        vertical-align: top;\n",
       "    }\n",
       "\n",
       "    .dataframe thead th {\n",
       "        text-align: right;\n",
       "    }\n",
       "</style>\n",
       "<table border=\"1\" class=\"dataframe\">\n",
       "  <thead>\n",
       "    <tr style=\"text-align: right;\">\n",
       "      <th></th>\n",
       "      <th>sepal_length</th>\n",
       "      <th>sepal_width</th>\n",
       "      <th>petal_length</th>\n",
       "      <th>petal_width</th>\n",
       "      <th>species</th>\n",
       "      <th>sepal_length_ste</th>\n",
       "      <th>sepal_width_ste</th>\n",
       "      <th>petal_length_ste</th>\n",
       "      <th>petal_width_ste</th>\n",
       "    </tr>\n",
       "  </thead>\n",
       "  <tbody>\n",
       "    <tr>\n",
       "      <td>0</td>\n",
       "      <td>5.1</td>\n",
       "      <td>3.5</td>\n",
       "      <td>1.4</td>\n",
       "      <td>0.2</td>\n",
       "      <td>setosa</td>\n",
       "      <td>0.249547</td>\n",
       "      <td>0.183768</td>\n",
       "      <td>0.035906</td>\n",
       "      <td>0.003666</td>\n",
       "    </tr>\n",
       "    <tr>\n",
       "      <td>1</td>\n",
       "      <td>4.9</td>\n",
       "      <td>3.0</td>\n",
       "      <td>1.4</td>\n",
       "      <td>0.2</td>\n",
       "      <td>setosa</td>\n",
       "      <td>0.249547</td>\n",
       "      <td>0.183768</td>\n",
       "      <td>0.035906</td>\n",
       "      <td>0.003666</td>\n",
       "    </tr>\n",
       "    <tr>\n",
       "      <td>2</td>\n",
       "      <td>4.7</td>\n",
       "      <td>3.2</td>\n",
       "      <td>1.3</td>\n",
       "      <td>0.2</td>\n",
       "      <td>setosa</td>\n",
       "      <td>0.249547</td>\n",
       "      <td>0.183768</td>\n",
       "      <td>0.035906</td>\n",
       "      <td>0.003666</td>\n",
       "    </tr>\n",
       "    <tr>\n",
       "      <td>3</td>\n",
       "      <td>4.6</td>\n",
       "      <td>3.1</td>\n",
       "      <td>1.5</td>\n",
       "      <td>0.2</td>\n",
       "      <td>setosa</td>\n",
       "      <td>0.249547</td>\n",
       "      <td>0.183768</td>\n",
       "      <td>0.035906</td>\n",
       "      <td>0.003666</td>\n",
       "    </tr>\n",
       "    <tr>\n",
       "      <td>4</td>\n",
       "      <td>5.0</td>\n",
       "      <td>3.6</td>\n",
       "      <td>1.4</td>\n",
       "      <td>0.2</td>\n",
       "      <td>setosa</td>\n",
       "      <td>0.249547</td>\n",
       "      <td>0.183768</td>\n",
       "      <td>0.035906</td>\n",
       "      <td>0.003666</td>\n",
       "    </tr>\n",
       "    <tr>\n",
       "      <td>...</td>\n",
       "      <td>...</td>\n",
       "      <td>...</td>\n",
       "      <td>...</td>\n",
       "      <td>...</td>\n",
       "      <td>...</td>\n",
       "      <td>...</td>\n",
       "      <td>...</td>\n",
       "      <td>...</td>\n",
       "      <td>...</td>\n",
       "    </tr>\n",
       "    <tr>\n",
       "      <td>145</td>\n",
       "      <td>6.7</td>\n",
       "      <td>3.0</td>\n",
       "      <td>5.2</td>\n",
       "      <td>2.3</td>\n",
       "      <td>virginica</td>\n",
       "      <td>0.592439</td>\n",
       "      <td>0.135638</td>\n",
       "      <td>0.433332</td>\n",
       "      <td>0.078693</td>\n",
       "    </tr>\n",
       "    <tr>\n",
       "      <td>146</td>\n",
       "      <td>6.3</td>\n",
       "      <td>2.5</td>\n",
       "      <td>5.0</td>\n",
       "      <td>1.9</td>\n",
       "      <td>virginica</td>\n",
       "      <td>0.592439</td>\n",
       "      <td>0.135638</td>\n",
       "      <td>0.433332</td>\n",
       "      <td>0.078693</td>\n",
       "    </tr>\n",
       "    <tr>\n",
       "      <td>147</td>\n",
       "      <td>6.5</td>\n",
       "      <td>3.0</td>\n",
       "      <td>5.2</td>\n",
       "      <td>2.0</td>\n",
       "      <td>virginica</td>\n",
       "      <td>0.592439</td>\n",
       "      <td>0.135638</td>\n",
       "      <td>0.433332</td>\n",
       "      <td>0.078693</td>\n",
       "    </tr>\n",
       "    <tr>\n",
       "      <td>148</td>\n",
       "      <td>6.2</td>\n",
       "      <td>3.4</td>\n",
       "      <td>5.4</td>\n",
       "      <td>2.3</td>\n",
       "      <td>virginica</td>\n",
       "      <td>0.592439</td>\n",
       "      <td>0.135638</td>\n",
       "      <td>0.433332</td>\n",
       "      <td>0.078693</td>\n",
       "    </tr>\n",
       "    <tr>\n",
       "      <td>149</td>\n",
       "      <td>5.9</td>\n",
       "      <td>3.0</td>\n",
       "      <td>5.1</td>\n",
       "      <td>1.8</td>\n",
       "      <td>virginica</td>\n",
       "      <td>0.592439</td>\n",
       "      <td>0.135638</td>\n",
       "      <td>0.433332</td>\n",
       "      <td>0.078693</td>\n",
       "    </tr>\n",
       "  </tbody>\n",
       "</table>\n",
       "<p>150 rows × 9 columns</p>\n",
       "</div>"
      ],
      "text/plain": [
       "     sepal_length  sepal_width  petal_length  petal_width    species  \\\n",
       "0             5.1          3.5           1.4          0.2     setosa   \n",
       "1             4.9          3.0           1.4          0.2     setosa   \n",
       "2             4.7          3.2           1.3          0.2     setosa   \n",
       "3             4.6          3.1           1.5          0.2     setosa   \n",
       "4             5.0          3.6           1.4          0.2     setosa   \n",
       "..            ...          ...           ...          ...        ...   \n",
       "145           6.7          3.0           5.2          2.3  virginica   \n",
       "146           6.3          2.5           5.0          1.9  virginica   \n",
       "147           6.5          3.0           5.2          2.0  virginica   \n",
       "148           6.2          3.4           5.4          2.3  virginica   \n",
       "149           5.9          3.0           5.1          1.8  virginica   \n",
       "\n",
       "     sepal_length_ste  sepal_width_ste  petal_length_ste  petal_width_ste  \n",
       "0            0.249547         0.183768          0.035906         0.003666  \n",
       "1            0.249547         0.183768          0.035906         0.003666  \n",
       "2            0.249547         0.183768          0.035906         0.003666  \n",
       "3            0.249547         0.183768          0.035906         0.003666  \n",
       "4            0.249547         0.183768          0.035906         0.003666  \n",
       "..                ...              ...               ...              ...  \n",
       "145          0.592439         0.135638          0.433332         0.078693  \n",
       "146          0.592439         0.135638          0.433332         0.078693  \n",
       "147          0.592439         0.135638          0.433332         0.078693  \n",
       "148          0.592439         0.135638          0.433332         0.078693  \n",
       "149          0.592439         0.135638          0.433332         0.078693  \n",
       "\n",
       "[150 rows x 9 columns]"
      ]
     },
     "execution_count": 39,
     "metadata": {},
     "output_type": "execute_result"
    }
   ],
   "source": [
    "iris = pd.read_csv('https://raw.githubusercontent.com/mwaskom/seaborn-data/master/iris.csv')\n",
    "\n",
    "numerical_columns = []\n",
    "for column in iris.columns:\n",
    "    if iris[column].dtypes == \"float64\":\n",
    "        numerical_columns.append(column)\n",
    "\n",
    "for column in numerical_columns:\n",
    "    iris[column + \"_ste\"] = 0\n",
    "        \n",
    "for species in iris.species.unique():\n",
    "    species_iris = iris[iris.species == species]\n",
    "    for column in numerical_columns:\n",
    "        mean = species_iris[column].mean()\n",
    "        var = species_iris[column].var()\n",
    "        n = species_iris[column].count()\n",
    "        ste = mean * (var/n) ** (1/2)\n",
    "        iris.loc[iris.species == species, column + \"_ste\"] = ste\n",
    "\n",
    "iris"
   ]
  },
  {
   "cell_type": "markdown",
   "metadata": {},
   "source": [
    "# Exercise 29\n",
    "\n",
    "Imagine you are given a NumPy matrix and you want to transform this matrix into a pandas DataFrame, how can you do this? (Use the Internet to answer this question).\n",
    "\n",
    "What about when you have a pandas DataFrame and you need a NumPy matrix?"
   ]
  },
  {
   "cell_type": "code",
   "execution_count": 53,
   "metadata": {},
   "outputs": [
    {
     "data": {
      "text/html": [
       "<div>\n",
       "<style scoped>\n",
       "    .dataframe tbody tr th:only-of-type {\n",
       "        vertical-align: middle;\n",
       "    }\n",
       "\n",
       "    .dataframe tbody tr th {\n",
       "        vertical-align: top;\n",
       "    }\n",
       "\n",
       "    .dataframe thead th {\n",
       "        text-align: right;\n",
       "    }\n",
       "</style>\n",
       "<table border=\"1\" class=\"dataframe\">\n",
       "  <thead>\n",
       "    <tr style=\"text-align: right;\">\n",
       "      <th></th>\n",
       "      <th>0</th>\n",
       "      <th>1</th>\n",
       "      <th>2</th>\n",
       "      <th>3</th>\n",
       "      <th>4</th>\n",
       "      <th>5</th>\n",
       "      <th>6</th>\n",
       "      <th>7</th>\n",
       "      <th>8</th>\n",
       "      <th>9</th>\n",
       "    </tr>\n",
       "  </thead>\n",
       "  <tbody>\n",
       "    <tr>\n",
       "      <th>0</th>\n",
       "      <td>0.245712</td>\n",
       "      <td>0.037203</td>\n",
       "      <td>0.580942</td>\n",
       "      <td>0.868591</td>\n",
       "      <td>0.450839</td>\n",
       "      <td>0.019332</td>\n",
       "      <td>0.474156</td>\n",
       "      <td>0.522755</td>\n",
       "      <td>0.310662</td>\n",
       "      <td>0.497705</td>\n",
       "    </tr>\n",
       "    <tr>\n",
       "      <th>1</th>\n",
       "      <td>0.458620</td>\n",
       "      <td>0.673569</td>\n",
       "      <td>0.702974</td>\n",
       "      <td>0.574135</td>\n",
       "      <td>0.413590</td>\n",
       "      <td>0.535259</td>\n",
       "      <td>0.749459</td>\n",
       "      <td>0.312665</td>\n",
       "      <td>0.668747</td>\n",
       "      <td>0.880950</td>\n",
       "    </tr>\n",
       "    <tr>\n",
       "      <th>2</th>\n",
       "      <td>0.956952</td>\n",
       "      <td>0.046424</td>\n",
       "      <td>0.246616</td>\n",
       "      <td>0.904610</td>\n",
       "      <td>0.093465</td>\n",
       "      <td>0.372178</td>\n",
       "      <td>0.705437</td>\n",
       "      <td>0.836618</td>\n",
       "      <td>0.254034</td>\n",
       "      <td>0.171453</td>\n",
       "    </tr>\n",
       "    <tr>\n",
       "      <th>3</th>\n",
       "      <td>0.283044</td>\n",
       "      <td>0.216251</td>\n",
       "      <td>0.093299</td>\n",
       "      <td>0.720375</td>\n",
       "      <td>0.713038</td>\n",
       "      <td>0.380102</td>\n",
       "      <td>0.253251</td>\n",
       "      <td>0.694433</td>\n",
       "      <td>0.542765</td>\n",
       "      <td>0.395390</td>\n",
       "    </tr>\n",
       "    <tr>\n",
       "      <th>4</th>\n",
       "      <td>0.336100</td>\n",
       "      <td>0.091247</td>\n",
       "      <td>0.403522</td>\n",
       "      <td>0.290011</td>\n",
       "      <td>0.474667</td>\n",
       "      <td>0.781729</td>\n",
       "      <td>0.276244</td>\n",
       "      <td>0.800076</td>\n",
       "      <td>0.025960</td>\n",
       "      <td>0.533593</td>\n",
       "    </tr>\n",
       "    <tr>\n",
       "      <th>5</th>\n",
       "      <td>0.757662</td>\n",
       "      <td>0.867170</td>\n",
       "      <td>0.419666</td>\n",
       "      <td>0.446900</td>\n",
       "      <td>0.162172</td>\n",
       "      <td>0.698573</td>\n",
       "      <td>0.055458</td>\n",
       "      <td>0.425394</td>\n",
       "      <td>0.957270</td>\n",
       "      <td>0.072171</td>\n",
       "    </tr>\n",
       "    <tr>\n",
       "      <th>6</th>\n",
       "      <td>0.039678</td>\n",
       "      <td>0.102826</td>\n",
       "      <td>0.327672</td>\n",
       "      <td>0.513742</td>\n",
       "      <td>0.227006</td>\n",
       "      <td>0.769327</td>\n",
       "      <td>0.521846</td>\n",
       "      <td>0.446913</td>\n",
       "      <td>0.468475</td>\n",
       "      <td>0.054660</td>\n",
       "    </tr>\n",
       "    <tr>\n",
       "      <th>7</th>\n",
       "      <td>0.505711</td>\n",
       "      <td>0.146879</td>\n",
       "      <td>0.132481</td>\n",
       "      <td>0.087413</td>\n",
       "      <td>0.468893</td>\n",
       "      <td>0.841021</td>\n",
       "      <td>0.008547</td>\n",
       "      <td>0.766000</td>\n",
       "      <td>0.520554</td>\n",
       "      <td>0.153011</td>\n",
       "    </tr>\n",
       "    <tr>\n",
       "      <th>8</th>\n",
       "      <td>0.188063</td>\n",
       "      <td>0.730680</td>\n",
       "      <td>0.820042</td>\n",
       "      <td>0.001094</td>\n",
       "      <td>0.734928</td>\n",
       "      <td>0.525328</td>\n",
       "      <td>0.414754</td>\n",
       "      <td>0.895966</td>\n",
       "      <td>0.134007</td>\n",
       "      <td>0.707739</td>\n",
       "    </tr>\n",
       "    <tr>\n",
       "      <th>9</th>\n",
       "      <td>0.197008</td>\n",
       "      <td>0.470113</td>\n",
       "      <td>0.459806</td>\n",
       "      <td>0.784453</td>\n",
       "      <td>0.798315</td>\n",
       "      <td>0.270920</td>\n",
       "      <td>0.777536</td>\n",
       "      <td>0.864515</td>\n",
       "      <td>0.034132</td>\n",
       "      <td>0.478453</td>\n",
       "    </tr>\n",
       "  </tbody>\n",
       "</table>\n",
       "</div>"
      ],
      "text/plain": [
       "          0         1         2         3         4         5         6  \\\n",
       "0  0.245712  0.037203  0.580942  0.868591  0.450839  0.019332  0.474156   \n",
       "1  0.458620  0.673569  0.702974  0.574135  0.413590  0.535259  0.749459   \n",
       "2  0.956952  0.046424  0.246616  0.904610  0.093465  0.372178  0.705437   \n",
       "3  0.283044  0.216251  0.093299  0.720375  0.713038  0.380102  0.253251   \n",
       "4  0.336100  0.091247  0.403522  0.290011  0.474667  0.781729  0.276244   \n",
       "5  0.757662  0.867170  0.419666  0.446900  0.162172  0.698573  0.055458   \n",
       "6  0.039678  0.102826  0.327672  0.513742  0.227006  0.769327  0.521846   \n",
       "7  0.505711  0.146879  0.132481  0.087413  0.468893  0.841021  0.008547   \n",
       "8  0.188063  0.730680  0.820042  0.001094  0.734928  0.525328  0.414754   \n",
       "9  0.197008  0.470113  0.459806  0.784453  0.798315  0.270920  0.777536   \n",
       "\n",
       "          7         8         9  \n",
       "0  0.522755  0.310662  0.497705  \n",
       "1  0.312665  0.668747  0.880950  \n",
       "2  0.836618  0.254034  0.171453  \n",
       "3  0.694433  0.542765  0.395390  \n",
       "4  0.800076  0.025960  0.533593  \n",
       "5  0.425394  0.957270  0.072171  \n",
       "6  0.446913  0.468475  0.054660  \n",
       "7  0.766000  0.520554  0.153011  \n",
       "8  0.895966  0.134007  0.707739  \n",
       "9  0.864515  0.034132  0.478453  "
      ]
     },
     "execution_count": 53,
     "metadata": {},
     "output_type": "execute_result"
    }
   ],
   "source": [
    "import numpy as np\n",
    "\n",
    "matrix = np.random.random((10, 10))\n",
    "\n",
    "pd_matrix = pd.DataFrame(data=matrix)\n",
    "\n",
    "pd_matrix"
   ]
  },
  {
   "cell_type": "code",
   "execution_count": 54,
   "metadata": {},
   "outputs": [
    {
     "data": {
      "text/plain": [
       "array([[0.245712  , 0.03720307, 0.58094173, 0.86859062, 0.45083903,\n",
       "        0.01933194, 0.47415631, 0.52275535, 0.3106624 , 0.49770454],\n",
       "       [0.45862033, 0.67356859, 0.70297385, 0.57413517, 0.4135902 ,\n",
       "        0.53525875, 0.7494592 , 0.3126648 , 0.66874673, 0.88094981],\n",
       "       [0.95695184, 0.04642446, 0.24661616, 0.90460992, 0.09346467,\n",
       "        0.37217777, 0.70543722, 0.83661843, 0.25403395, 0.17145323],\n",
       "       [0.28304352, 0.21625119, 0.0932993 , 0.72037532, 0.71303837,\n",
       "        0.38010158, 0.25325118, 0.69443276, 0.54276483, 0.39538971],\n",
       "       [0.33610045, 0.09124732, 0.4035224 , 0.2900107 , 0.47466655,\n",
       "        0.78172935, 0.27624375, 0.80007631, 0.02596011, 0.53359339],\n",
       "       [0.75766246, 0.86717023, 0.41966579, 0.44690011, 0.16217153,\n",
       "        0.69857319, 0.0554579 , 0.42539397, 0.95727034, 0.07217068],\n",
       "       [0.03967793, 0.1028258 , 0.32767173, 0.51374152, 0.22700639,\n",
       "        0.76932675, 0.52184564, 0.44691333, 0.46847474, 0.05465985],\n",
       "       [0.50571125, 0.14687948, 0.13248093, 0.0874133 , 0.46889317,\n",
       "        0.84102053, 0.00854676, 0.76600005, 0.52055427, 0.15301115],\n",
       "       [0.1880627 , 0.73067979, 0.82004169, 0.00109428, 0.73492844,\n",
       "        0.52532814, 0.41475426, 0.895966  , 0.13400683, 0.70773893],\n",
       "       [0.19700838, 0.47011266, 0.45980608, 0.78445299, 0.79831453,\n",
       "        0.27091996, 0.77753583, 0.86451471, 0.03413154, 0.47845337]])"
      ]
     },
     "execution_count": 54,
     "metadata": {},
     "output_type": "execute_result"
    }
   ],
   "source": [
    "matrix = pd_matrix.values\n",
    "\n",
    "matrix"
   ]
  }
 ],
 "metadata": {
  "kernelspec": {
   "display_name": "Python 3",
   "language": "python",
   "name": "python3"
  },
  "language_info": {
   "codemirror_mode": {
    "name": "ipython",
    "version": 3
   },
   "file_extension": ".py",
   "mimetype": "text/x-python",
   "name": "python",
   "nbconvert_exporter": "python",
   "pygments_lexer": "ipython3",
   "version": "3.7.4"
  }
 },
 "nbformat": 4,
 "nbformat_minor": 2
}
