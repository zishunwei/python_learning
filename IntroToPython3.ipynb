{
 "cells": [
  {
   "cell_type": "markdown",
   "metadata": {},
   "source": [
    "\n",
    "Mining Social and Geographic Datasets\n",
    "-----------------------------------\n",
    "\n",
    "Lab Class: A First Look at Python\n",
    "-------------------------------\n",
    "\n",
    "**Exercise 1 (basic)**\n",
    "\n",
    "a) Define a list containing the following elements: 1, 2, 3, 4, 5, 6, 7, 8, 9. <br />\n",
    "b) Write a program that prints the first element of the list. <br />\n",
    "c) Write a program that prints the last element of the list. <br />\n",
    "d) Write a program that prints the sum of the elements of the list. <br />\n",
    "e) Write a program that calculates the average of the elements of the list. <br />\n",
    "f) Write a program that calculates the median of the elements of the list. <br />\n",
    "\n",
    "**Exercise 2 (loops and controls)** \n",
    "\n",
    "a) Define two lists of length 10, containing elements from 1 to 10 and 11 to 20. <br />\n",
    "b) Write a program that sums all the odd elements in the list. <br /> \n",
    "c) Write a program that exponentiates all the even elements in the list <br /> \n",
    "d) Write a program that prints the list in which each element is the sum of the corresponding elements. <br />\n",
    "e) Write a program that sorts the list in ascending order. <br />\n",
    "f) Write a program that sorts the list in descending order. <br />\n",
    "\n",
    "\n",
    "**Exercise 3 (functions)**\n",
    "\n",
    "a) Write a program that given a list prints a list with the same elements but in reverse order (e.g., given [1, 5, 4, 3], returns [3, 4, 5, 1]. <br />\n",
    "b) Write a function that given two numbers it returns the sum of its squares.   <br />\n",
    "c) Write a function that given three positive integers in input, it returns the smaller one. <br />\n",
    "d) Write a function that gives the median of any list as input (hint: sort the lists first!) <br />"
   ]
  },
  {
   "cell_type": "markdown",
   "metadata": {},
   "source": [
    "1.a) Define a list containing the following elements: 1, 1, 3, 4, 5, 6, 7, 8, 9. \n",
    "----------------------------------------------------------"
   ]
  },
  {
   "cell_type": "code",
   "execution_count": 54,
   "metadata": {
    "collapsed": true
   },
   "outputs": [],
   "source": [
    "list1 = [1, 2, 3, 4, 5, 6, 7, 8, 9]\n",
    "\n",
    "list1 = []\n",
    "list1.append(1)\n",
    "list1.append(2)\n",
    "list1.append(3)\n",
    "list1.append(4)\n",
    "list1.append(5)\n",
    "list1.append(6)\n",
    "list1.append(7)\n",
    "list1.append(8)\n",
    "list1.append(9)"
   ]
  },
  {
   "cell_type": "markdown",
   "metadata": {},
   "source": [
    "1.b) Write a program that returns the first element of the list.\n",
    "----------------------------------------------------------"
   ]
  },
  {
   "cell_type": "code",
   "execution_count": 55,
   "metadata": {},
   "outputs": [
    {
     "name": "stdout",
     "output_type": "stream",
     "text": [
      "First element:  1\n"
     ]
    }
   ],
   "source": [
    "print(\"First element: \", list1[0])"
   ]
  },
  {
   "cell_type": "markdown",
   "metadata": {},
   "source": [
    "1.c) Write a program that returns the last element of the list.\n",
    "----------------------------------------------------------"
   ]
  },
  {
   "cell_type": "code",
   "execution_count": 57,
   "metadata": {},
   "outputs": [
    {
     "name": "stdout",
     "output_type": "stream",
     "text": [
      "Last element:  9\n"
     ]
    }
   ],
   "source": [
    "print(\"Last element: \", list1[8])"
   ]
  },
  {
   "cell_type": "markdown",
   "metadata": {},
   "source": [
    "1.d) Write a program that returns the sum of the elements of the list.\n",
    "----------------------------------------------------------"
   ]
  },
  {
   "cell_type": "code",
   "execution_count": 58,
   "metadata": {},
   "outputs": [
    {
     "name": "stdout",
     "output_type": "stream",
     "text": [
      "45\n"
     ]
    }
   ],
   "source": [
    "# solution 1\n",
    "\n",
    "s = 0\n",
    "\n",
    "for e in list1:\n",
    "    s = s + e\n",
    "    \n",
    "print(s)"
   ]
  },
  {
   "cell_type": "code",
   "execution_count": 59,
   "metadata": {},
   "outputs": [
    {
     "name": "stdout",
     "output_type": "stream",
     "text": [
      "45\n"
     ]
    }
   ],
   "source": [
    "# solution 2\n",
    "\n",
    "s = 0\n",
    "\n",
    "for i in range(0, len(list1)):\n",
    "    s = s + list1[i]\n",
    "    \n",
    "print(s)"
   ]
  },
  {
   "cell_type": "code",
   "execution_count": 60,
   "metadata": {},
   "outputs": [
    {
     "data": {
      "text/plain": [
       "45"
      ]
     },
     "execution_count": 60,
     "metadata": {},
     "output_type": "execute_result"
    }
   ],
   "source": [
    "# solution 3\n",
    "\n",
    "sum(list1)"
   ]
  },
  {
   "cell_type": "markdown",
   "metadata": {},
   "source": [
    "1.e) Write a program that calculates the average of the elements of the list.\n",
    "----------------------------------------------------------"
   ]
  },
  {
   "cell_type": "code",
   "execution_count": 61,
   "metadata": {},
   "outputs": [
    {
     "data": {
      "text/plain": [
       "5.0"
      ]
     },
     "execution_count": 61,
     "metadata": {},
     "output_type": "execute_result"
    }
   ],
   "source": [
    "s / len(list1)"
   ]
  },
  {
   "cell_type": "markdown",
   "metadata": {},
   "source": [
    "1.f) Write a program that calculates the median of the elements of the list.\n",
    "----------------------------------------------------------"
   ]
  },
  {
   "cell_type": "code",
   "execution_count": 2,
   "metadata": {},
   "outputs": [
    {
     "name": "stdout",
     "output_type": "stream",
     "text": [
      "5.5\n"
     ]
    }
   ],
   "source": [
    "#list1 = [1, 2, 3, 4, 5, 6, 7, 8, 9]\n",
    "#list1 = [1, 2, 3, 4, 5, 6, 7, 8, 9, 10]\n",
    "\n",
    "list1_len = len(list1)\n",
    "index = (list1_len - 1) // 2\n",
    "\n",
    "if (list1_len % 2):\n",
    "    print(list1[index])\n",
    "else:\n",
    "    print((list1[index] + list1[index + 1]) / 2)"
   ]
  },
  {
   "cell_type": "markdown",
   "metadata": {},
   "source": [
    "2.a) Define two lists of length 10, containing elements from 1 to 10 and 11 to 20.\n",
    "----------------------------------------------------------"
   ]
  },
  {
   "cell_type": "code",
   "execution_count": 4,
   "metadata": {},
   "outputs": [],
   "source": [
    "list1 = [1, 2, 3, 4, 5, 6, 7, 8, 9, 10]\n",
    "list2 = [11, 12, 13, 14, 15, 16, 17, 18, 19, 20]"
   ]
  },
  {
   "cell_type": "markdown",
   "metadata": {},
   "source": [
    "2.b) Write a program that sums all the odd elements in the list. <br /> \n",
    "----------------------------------------------------------"
   ]
  },
  {
   "cell_type": "code",
   "execution_count": 6,
   "metadata": {},
   "outputs": [
    {
     "name": "stdout",
     "output_type": "stream",
     "text": [
      "1\n",
      "3\n",
      "5\n",
      "7\n",
      "9\n"
     ]
    }
   ],
   "source": [
    "for i in list1:\n",
    "    if i%2:\n",
    "        print (i)"
   ]
  },
  {
   "cell_type": "markdown",
   "metadata": {},
   "source": [
    "2.c) Write a program that exponentiates all the even elements in the list <br /> \n",
    "----------------------------------------------------------"
   ]
  },
  {
   "cell_type": "code",
   "execution_count": 7,
   "metadata": {},
   "outputs": [
    {
     "name": "stdout",
     "output_type": "stream",
     "text": [
      "2\n",
      "4\n",
      "6\n",
      "8\n",
      "10\n"
     ]
    }
   ],
   "source": [
    "for i in list1:\n",
    "    if i%2!=True:\n",
    "        print (i)"
   ]
  },
  {
   "cell_type": "markdown",
   "metadata": {},
   "source": [
    "2.d) Write a program that prints the list in which each element is the sum of the corresponding elements. <br />\n",
    "----------------------------------------------------------"
   ]
  },
  {
   "cell_type": "code",
   "execution_count": 8,
   "metadata": {},
   "outputs": [
    {
     "name": "stdout",
     "output_type": "stream",
     "text": [
      "[12, 14, 16, 18, 20, 22, 24, 26, 28, 30]\n"
     ]
    }
   ],
   "source": [
    "list1 = [1, 2, 3, 4, 5, 6, 7, 8, 9, 10]\n",
    "list2 = [11, 12, 13, 14, 15, 16, 17, 18, 19, 20]\n",
    "    \n",
    "list3 = []\n",
    "for i in range(0, 10):\n",
    "    list3.append(list1[i] + list2[i])\n",
    "\n",
    "print(list3)"
   ]
  },
  {
   "cell_type": "markdown",
   "metadata": {},
   "source": [
    "2.e) Write a program that sorts the list in ascending order.\n",
    "----------------------------------------------------------"
   ]
  },
  {
   "cell_type": "code",
   "execution_count": 7,
   "metadata": {},
   "outputs": [
    {
     "name": "stdout",
     "output_type": "stream",
     "text": [
      "[1, 2, 3, 4, 5]\n"
     ]
    }
   ],
   "source": [
    "# solution 1\n",
    "list1 = [5, 2, 3, 1, 4]\n",
    "list2 = []\n",
    "\n",
    "while list1:\n",
    "    minimum = list1[0]   \n",
    "    for x in list1: \n",
    "        if x < minimum:\n",
    "            minimum = x\n",
    "    list2.append(minimum)\n",
    "    list1.remove(minimum)    \n",
    "\n",
    "print(list2)"
   ]
  },
  {
   "cell_type": "code",
   "execution_count": 8,
   "metadata": {},
   "outputs": [
    {
     "name": "stdout",
     "output_type": "stream",
     "text": [
      "[1, 2, 3, 4, 5]\n"
     ]
    }
   ],
   "source": [
    "# solution 2\n",
    "list1 = [5, 2, 3, 1, 4]\n",
    "\n",
    "list1.sort()\n",
    "print(list1)"
   ]
  },
  {
   "cell_type": "markdown",
   "metadata": {},
   "source": [
    "2.f) Write a program that sorts the list in descending order. <br />\n",
    "----------------------------------------------------------"
   ]
  },
  {
   "cell_type": "code",
   "execution_count": 1,
   "metadata": {},
   "outputs": [
    {
     "name": "stdout",
     "output_type": "stream",
     "text": [
      "[5, 4, 3, 2, 1]\n"
     ]
    }
   ],
   "source": [
    "# solution 1\n",
    "list1 = [1, 2, 3, 4, 5]\n",
    "list2 = []\n",
    "\n",
    "while list1:\n",
    "    minimum = list1[0]   \n",
    "    for x in list1: \n",
    "        if x > minimum:\n",
    "            minimum = x\n",
    "    list2.append(minimum)\n",
    "    list1.remove(minimum)    \n",
    "\n",
    "print(list2)"
   ]
  },
  {
   "cell_type": "code",
   "execution_count": 9,
   "metadata": {},
   "outputs": [
    {
     "name": "stdout",
     "output_type": "stream",
     "text": [
      "[5, 4, 3, 2, 1]\n"
     ]
    }
   ],
   "source": [
    "# solution 2\n",
    "list1 = [1, 2, 3, 4, 5]\n",
    "\n",
    "list1.sort(reverse=True)\n",
    "print(list1)"
   ]
  },
  {
   "cell_type": "markdown",
   "metadata": {},
   "source": [
    "3.a) Write a program that given a list returns a list with the same elements but in reverse order (e.g., given [1, 5, 4, 3], returns [3, 4, 5, 1].)\n",
    "----------------------------------------------------------"
   ]
  },
  {
   "cell_type": "code",
   "execution_count": 13,
   "metadata": {},
   "outputs": [
    {
     "name": "stdout",
     "output_type": "stream",
     "text": [
      "[165, 99, 2, 3, 4, 5, 1]\n"
     ]
    }
   ],
   "source": [
    "list1 = [1, 5, 4, 3, 2, 99, 165]\n",
    "\n",
    "def reverse_list(list1):\n",
    "    list2 = []\n",
    "    while list1:\n",
    "        last = list1[-1]\n",
    "        list2.append(last)\n",
    "        list1.remove(last)\n",
    "    return list2\n",
    "\n",
    "print(reverse_list(list1))\n"
   ]
  },
  {
   "cell_type": "markdown",
   "metadata": {},
   "source": [
    "3b) Write a function that given two numbers it returns the sum of its squares.   <br />\n",
    "----------------------------------------------------------\n",
    "\n"
   ]
  },
  {
   "cell_type": "code",
   "execution_count": 14,
   "metadata": {},
   "outputs": [
    {
     "data": {
      "text/plain": [
       "500"
      ]
     },
     "execution_count": 14,
     "metadata": {},
     "output_type": "execute_result"
    }
   ],
   "source": [
    "def sum_squares(a, b):\n",
    "    sum_squares = a**2 + b**2\n",
    "    return sum_squares\n",
    "\n",
    "a = 10\n",
    "b =20\n",
    "sum_squares(a, b)\n",
    "    "
   ]
  },
  {
   "cell_type": "markdown",
   "metadata": {},
   "source": [
    "3c) Write a function that given three positive integers in input, it returns the smaller one. <br />\n",
    "----------------------------------------------------------"
   ]
  },
  {
   "cell_type": "code",
   "execution_count": 20,
   "metadata": {},
   "outputs": [
    {
     "name": "stdout",
     "output_type": "stream",
     "text": [
      "please input the first positive integer49\n",
      "please input the second positive integer65\n",
      "please input the third positive integer222\n"
     ]
    },
    {
     "data": {
      "text/plain": [
       "49"
      ]
     },
     "execution_count": 20,
     "metadata": {},
     "output_type": "execute_result"
    }
   ],
   "source": [
    "def min_int(a, b, c):\n",
    "    list1 =[a, b, c]\n",
    "    minimum = list1[0]\n",
    "    for i in list1:\n",
    "        if i < minimum:\n",
    "            minimum = i\n",
    "    return minimum\n",
    "\n",
    "a = int(input('please input the first positive integer'))\n",
    "b = int(input('please input the second positive integer'))\n",
    "c = int(input('please input the third positive integer'))\n",
    "\n",
    "min_int(a,b,c)"
   ]
  },
  {
   "cell_type": "markdown",
   "metadata": {},
   "source": [
    "3d) Write a function that gives the median of a list [8, 3, 2, 6, 5, 4, 7, 1, 10, 9] (hint: sort the lists first!) <br />\n",
    "----------------------------------------------------------"
   ]
  },
  {
   "cell_type": "code",
   "execution_count": 21,
   "metadata": {},
   "outputs": [
    {
     "data": {
      "text/plain": [
       "5.5"
      ]
     },
     "execution_count": 21,
     "metadata": {},
     "output_type": "execute_result"
    }
   ],
   "source": [
    "def median(list1):\n",
    "    list1.sort()\n",
    "    list1_len = len(list1)\n",
    "    index = (list1_len - 1) // 2\n",
    "    if (list1_len % 2):\n",
    "        median = list1[index]\n",
    "    else:\n",
    "        median = (list1[index] + list1[index + 1]) / 2\n",
    "    return median\n",
    "\n",
    "list1 =  [8, 3, 2, 6, 5, 4, 7, 1, 10, 9]\n",
    "median(list1)"
   ]
  }
 ],
 "metadata": {
  "kernelspec": {
   "display_name": "Python 3",
   "language": "python",
   "name": "python3"
  },
  "language_info": {
   "codemirror_mode": {
    "name": "ipython",
    "version": 3
   },
   "file_extension": ".py",
   "mimetype": "text/x-python",
   "name": "python",
   "nbconvert_exporter": "python",
   "pygments_lexer": "ipython3",
   "version": "3.7.3"
  }
 },
 "nbformat": 4,
 "nbformat_minor": 2
}
